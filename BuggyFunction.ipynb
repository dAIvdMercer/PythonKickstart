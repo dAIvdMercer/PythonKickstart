{
  "nbformat": 4,
  "nbformat_minor": 0,
  "metadata": {
    "colab": {
      "provenance": [],
      "authorship_tag": "ABX9TyO0u1e0W2XOKcQ58c57ANi4",
      "include_colab_link": true
    },
    "kernelspec": {
      "name": "python3",
      "display_name": "Python 3"
    },
    "language_info": {
      "name": "python"
    }
  },
  "cells": [
    {
      "cell_type": "markdown",
      "metadata": {
        "id": "view-in-github",
        "colab_type": "text"
      },
      "source": [
        "<a href=\"https://colab.research.google.com/github/dAIvdMercer/PythonKickstart/blob/main/BuggyFunction.ipynb\" target=\"_parent\"><img src=\"https://colab.research.google.com/assets/colab-badge.svg\" alt=\"Open In Colab\"/></a>"
      ]
    },
    {
      "cell_type": "code",
      "execution_count": null,
      "metadata": {
        "id": "1ax2enSJi6de"
      },
      "outputs": [],
      "source": [
        "def buggy_function(items, divisor):\n",
        "    total = 0\n",
        "\n",
        "    for item in items\n",
        "        total = total + \"1\"\n",
        "\n",
        "    average = total / len(divisor)\n",
        "\n",
        "    print(\"The result is:\", result)\n",
        "\n",
        "    division_result = 100 / divisor\n",
        "\n",
        "    first_item = items[10]\n",
        "\n",
        "    return \"The total is: \" + str(average)\n",
        "\n",
        "error_prone_function([1, 2, 3], 0)"
      ]
    }
  ]
}