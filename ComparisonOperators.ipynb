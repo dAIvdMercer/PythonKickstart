{
  "nbformat": 4,
  "nbformat_minor": 0,
  "metadata": {
    "colab": {
      "provenance": [],
      "authorship_tag": "ABX9TyOZ5ixcycmdVNK0pg74izvQ",
      "include_colab_link": true
    },
    "kernelspec": {
      "name": "python3",
      "display_name": "Python 3"
    },
    "language_info": {
      "name": "python"
    }
  },
  "cells": [
    {
      "cell_type": "markdown",
      "metadata": {
        "id": "view-in-github",
        "colab_type": "text"
      },
      "source": [
        "<a href=\"https://colab.research.google.com/github/dAIvdMercer/PythonKickstart/blob/main/ComparisonOperators.ipynb\" target=\"_parent\"><img src=\"https://colab.research.google.com/assets/colab-badge.svg\" alt=\"Open In Colab\"/></a>"
      ]
    },
    {
      "cell_type": "code",
      "execution_count": null,
      "metadata": {
        "id": "R3KyPAQxJANF"
      },
      "outputs": [],
      "source": [
        "# Comparison Operators Examples\n",
        "\n",
        "# Equality (==)\n",
        "equality = (5 == 3)\n",
        "print(\"Equality: 5 == 3 is\", equality)\n",
        "\n",
        "# Inequality (!=)\n",
        "inequality = (5 != 3)\n",
        "print(\"Inequality: 5 != 3 is\", inequality)\n",
        "\n",
        "# Less Than (<)\n",
        "less_than = (5 < 3)\n",
        "print(\"Less Than: 5 < 3 is\", less_than)\n",
        "\n",
        "# Greater Than (>)\n",
        "greater_than = (5 > 3)\n",
        "print(\"Greater Than: 5 > 3 is\", greater_than)\n",
        "\n",
        "# Less Than or Equal To (<=)\n",
        "less_than_or_equal = (5 <= 3)\n",
        "print(\"Less Than or Equal To: 5 <= 3 is\", less_than_or_equal)\n",
        "\n",
        "# Greater Than or Equal To (>=)\n",
        "greater_than_or_equal = (5 >= 3)\n",
        "print(\"Greater Than or Equal To: 5 >= 3 is\", greater_than_or_equal)"
      ]
    }
  ]
}