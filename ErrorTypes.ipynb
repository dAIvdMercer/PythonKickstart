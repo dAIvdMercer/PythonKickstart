{
  "nbformat": 4,
  "nbformat_minor": 0,
  "metadata": {
    "colab": {
      "provenance": [],
      "authorship_tag": "ABX9TyPgXWzjJAEy8QX6SfPtHTKO",
      "include_colab_link": true
    },
    "kernelspec": {
      "name": "python3",
      "display_name": "Python 3"
    },
    "language_info": {
      "name": "python"
    }
  },
  "cells": [
    {
      "cell_type": "markdown",
      "metadata": {
        "id": "view-in-github",
        "colab_type": "text"
      },
      "source": [
        "<a href=\"https://colab.research.google.com/github/dAIvdMercer/PythonKickstart/blob/main/ErrorTypes.ipynb\" target=\"_parent\"><img src=\"https://colab.research.google.com/assets/colab-badge.svg\" alt=\"Open In Colab\"/></a>"
      ]
    },
    {
      "cell_type": "markdown",
      "source": [
        "# Python Error Types\n",
        "Each code block contains a function that highlights a specific type of error.\n",
        "\n",
        "Run all code to begin with (Note: the syntax error will be thrown immediately so it doesn't have a function call).\n",
        "\n",
        "You can then execute each one to see the error produced by commenting out the function call below the function. Be sure to delete the whitespace after the comment character (#)."
      ],
      "metadata": {
        "id": "uGKTJ7KzNJJK"
      }
    },
    {
      "cell_type": "code",
      "execution_count": null,
      "metadata": {
        "id": "GkvXe5YZLhGn"
      },
      "outputs": [],
      "source": [
        "# Syntax Error Example\n",
        "def syntax_error_example():\n",
        "    print(\"This is a syntax error example\"  # Missing closing parenthesis"
      ]
    },
    {
      "cell_type": "code",
      "source": [
        "# Runtime Error Example\n",
        "def runtime_error_example():\n",
        "    return 10 / 0  # Division by zero\n",
        "\n",
        "# runtime_error_example()"
      ],
      "metadata": {
        "id": "KN9nF8moMarM"
      },
      "execution_count": 9,
      "outputs": []
    },
    {
      "cell_type": "code",
      "source": [
        "# Logical Error Example\n",
        "def logical_error_example():\n",
        "    total = 0\n",
        "    for i in range(1, 11):\n",
        "        total += i  # Correct logic would be total = total + i\n",
        "    return total  # Incorrect total due to logic error\n",
        "\n",
        "# logical_error_example()"
      ],
      "metadata": {
        "id": "AM7p4IrMMdf_"
      },
      "execution_count": 10,
      "outputs": []
    },
    {
      "cell_type": "code",
      "source": [
        "# Semantic Error Example\n",
        "def semantic_error_example():\n",
        "    number = \"10\"\n",
        "    # Expected to add 10 + 10, but concatenates strings instead\n",
        "    return number + \"10\"\n",
        "\n",
        "# semantic_error_example()"
      ],
      "metadata": {
        "id": "zNkB9zKJMe8c"
      },
      "execution_count": 11,
      "outputs": []
    },
    {
      "cell_type": "code",
      "source": [
        "# Type Error Example\n",
        "def type_error_example():\n",
        "    return \"100\" + 100  # Concatenating string and integer\n",
        "\n",
        "# type_error_example()"
      ],
      "metadata": {
        "id": "s1To4PSlMgOt"
      },
      "execution_count": 12,
      "outputs": []
    },
    {
      "cell_type": "code",
      "source": [
        "# Resource Error Example (Uncomment to test)\n",
        "# def resource_error_example():\n",
        "#     with open(\"non_existent_file.txt\", \"r\") as file:\n",
        "#         data = file.read()\n",
        "\n",
        "# resource_error_example()"
      ],
      "metadata": {
        "id": "E0_2wYfaMiR3"
      },
      "execution_count": 13,
      "outputs": []
    },
    {
      "cell_type": "code",
      "source": [
        "# Name Error Example\n",
        "def name_error_example():\n",
        "    return unknown_variable  # Variable is not defined\n",
        "\n",
        "# name_error_example()"
      ],
      "metadata": {
        "id": "s9AnADsFMjiR"
      },
      "execution_count": 14,
      "outputs": []
    },
    {
      "cell_type": "code",
      "source": [
        "# Index Error Example\n",
        "def index_error_example():\n",
        "    my_list = [1, 2, 3]\n",
        "    return my_list[3]  # Index out of range\n",
        "\n",
        "# index_error_example()"
      ],
      "metadata": {
        "id": "qihzhl6NMkvX"
      },
      "execution_count": 15,
      "outputs": []
    },
    {
      "cell_type": "code",
      "source": [
        "# Value Error Example\n",
        "def value_error_example():\n",
        "    return int(\"not a number\")  # Invalid string to integer conversion\n",
        "\n",
        "# value_error_example()"
      ],
      "metadata": {
        "id": "WK2O_N5jMl5Y"
      },
      "execution_count": 16,
      "outputs": []
    },
    {
      "cell_type": "code",
      "source": [
        "# Import Error Example\n",
        "def import_error_example():\n",
        "    import non_existent_module  # Module does not exist\n",
        "\n",
        "# import_error_example()"
      ],
      "metadata": {
        "id": "gPn1yxGfMm9l"
      },
      "execution_count": 17,
      "outputs": []
    }
  ]
}