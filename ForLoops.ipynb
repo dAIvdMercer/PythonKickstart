{
  "nbformat": 4,
  "nbformat_minor": 0,
  "metadata": {
    "colab": {
      "provenance": [],
      "authorship_tag": "ABX9TyNWWSzR8F2N0OmBxPEn00x0",
      "include_colab_link": true
    },
    "kernelspec": {
      "name": "python3",
      "display_name": "Python 3"
    },
    "language_info": {
      "name": "python"
    }
  },
  "cells": [
    {
      "cell_type": "markdown",
      "metadata": {
        "id": "view-in-github",
        "colab_type": "text"
      },
      "source": [
        "<a href=\"https://colab.research.google.com/github/dAIvdMercer/PythonKickstart/blob/main/ForLoops.ipynb\" target=\"_parent\"><img src=\"https://colab.research.google.com/assets/colab-badge.svg\" alt=\"Open In Colab\"/></a>"
      ]
    },
    {
      "cell_type": "code",
      "execution_count": 1,
      "metadata": {
        "id": "7AI4n3I1Q-p4",
        "outputId": "c03c069d-a6dd-4859-b32c-5dbf845fc04b",
        "colab": {
          "base_uri": "https://localhost:8080/"
        }
      },
      "outputs": [
        {
          "output_type": "stream",
          "name": "stdout",
          "text": [
            "Iterating over a List:\n",
            "1\n",
            "2\n",
            "3\n",
            "\n",
            "Iterating over a String:\n",
            "H\n",
            "e\n",
            "l\n",
            "l\n",
            "o\n",
            "\n",
            "Using range() Function:\n",
            "0\n",
            "1\n",
            "2\n",
            "3\n",
            "4\n",
            "\n",
            "Iterating over a Dictionary:\n",
            "Key: a\n",
            "Key: b\n",
            "Value: 1\n",
            "Value: 2\n",
            "Key-Value Pair: a 1\n",
            "Key-Value Pair: b 2\n",
            "\n",
            "Nested for Loops:\n",
            "0 a\n",
            "0 b\n",
            "1 a\n",
            "1 b\n",
            "\n",
            "Using enumerate() Function:\n",
            "Index-Value Pair: 0 apple\n",
            "Index-Value Pair: 1 banana\n",
            "Index-Value Pair: 2 cherry\n"
          ]
        }
      ],
      "source": [
        "# Iterating over a List\n",
        "print(\"Iterating over a List:\")\n",
        "for item in [1, 2, 3]:\n",
        "    print(item)\n",
        "\n",
        "# Iterating over a String\n",
        "print(\"\\nIterating over a String:\")\n",
        "for char in \"Hello\":\n",
        "    print(char)\n",
        "\n",
        "# Using range() Function\n",
        "print(\"\\nUsing range() Function:\")\n",
        "for i in range(5):  # Iterates from 0 to 4\n",
        "    print(i)\n",
        "\n",
        "# Iterating over a Dictionary\n",
        "print(\"\\nIterating over a Dictionary:\")\n",
        "# Iterating over keys\n",
        "for key in {'a': 1, 'b': 2}:\n",
        "    print(\"Key:\", key)\n",
        "# Iterating over values\n",
        "for value in {'a': 1, 'b': 2}.values():\n",
        "    print(\"Value:\", value)\n",
        "# Iterating over key-value pairs\n",
        "for key, value in {'a': 1, 'b': 2}.items():\n",
        "    print(\"Key-Value Pair:\", key, value)\n",
        "\n",
        "# Nested for Loops\n",
        "print(\"\\nNested for Loops:\")\n",
        "for i in range(2):  # Outer loop\n",
        "    for j in ['a', 'b']:  # Inner loop\n",
        "        print(i, j)\n",
        "\n",
        "# Using enumerate() Function\n",
        "print(\"\\nUsing enumerate() Function:\")\n",
        "for index, value in enumerate(['apple', 'banana', 'cherry']):\n",
        "    print(\"Index-Value Pair:\", index, value)\n"
      ]
    }
  ]
}