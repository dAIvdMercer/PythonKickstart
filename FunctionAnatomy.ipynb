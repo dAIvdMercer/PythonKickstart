{
  "nbformat": 4,
  "nbformat_minor": 0,
  "metadata": {
    "colab": {
      "provenance": [],
      "authorship_tag": "ABX9TyMGoBj8Bc8uX0/8D5qN/C3V",
      "include_colab_link": true
    },
    "kernelspec": {
      "name": "python3",
      "display_name": "Python 3"
    },
    "language_info": {
      "name": "python"
    }
  },
  "cells": [
    {
      "cell_type": "markdown",
      "metadata": {
        "id": "view-in-github",
        "colab_type": "text"
      },
      "source": [
        "<a href=\"https://colab.research.google.com/github/dAIvdMercer/PythonKickstart/blob/main/FunctionAnatomy.ipynb\" target=\"_parent\"><img src=\"https://colab.research.google.com/assets/colab-badge.svg\" alt=\"Open In Colab\"/></a>"
      ]
    },
    {
      "cell_type": "markdown",
      "source": [
        "# Function\n",
        "We can create a simple function using the def keyword, with the following syntax."
      ],
      "metadata": {
        "id": "uUCTnYfm0Wl9"
      }
    },
    {
      "cell_type": "code",
      "execution_count": 1,
      "metadata": {
        "id": "xkJrgLzW0PjA"
      },
      "outputs": [],
      "source": [
        "def greet(name):\n",
        "    return f\"Hello, {name}!\""
      ]
    },
    {
      "cell_type": "markdown",
      "source": [
        "# Call the Function\n",
        "We can call the function by name and provide a parameter. Try changing Alice to your own name."
      ],
      "metadata": {
        "id": "NdHC95WL0g2a"
      }
    },
    {
      "cell_type": "code",
      "source": [
        "message = greet(\"Alice\")"
      ],
      "metadata": {
        "id": "U4-G80O00R1z"
      },
      "execution_count": 2,
      "outputs": []
    },
    {
      "cell_type": "markdown",
      "source": [
        "# View the Output\n",
        "The return value from the previous function call was assigned to the message variable. We can print it to the screen."
      ],
      "metadata": {
        "id": "eLIGaI3Q0qaF"
      }
    },
    {
      "cell_type": "code",
      "source": [
        "print(message)  # Output: Hello, Alice!"
      ],
      "metadata": {
        "colab": {
          "base_uri": "https://localhost:8080/"
        },
        "id": "1zLDpbRf0VDM",
        "outputId": "85195f26-d344-4f9a-9977-2d48fb295c73"
      },
      "execution_count": 3,
      "outputs": [
        {
          "output_type": "stream",
          "name": "stdout",
          "text": [
            "Hello, Alice!\n"
          ]
        }
      ]
    }
  ]
}