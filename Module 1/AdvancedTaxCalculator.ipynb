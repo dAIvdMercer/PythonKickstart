{
  "nbformat": 4,
  "nbformat_minor": 0,
  "metadata": {
    "colab": {
      "provenance": [],
      "authorship_tag": "ABX9TyNgdsJCvMfJ8lDBb5PLnSQp",
      "include_colab_link": true
    },
    "kernelspec": {
      "name": "python3",
      "display_name": "Python 3"
    },
    "language_info": {
      "name": "python"
    }
  },
  "cells": [
    {
      "cell_type": "markdown",
      "metadata": {
        "id": "view-in-github",
        "colab_type": "text"
      },
      "source": [
        "<a href=\"https://colab.research.google.com/github/dAIvdMercer/PythonKickstart/blob/main/Module%201/AdvancedTaxCalculator.ipynb\" target=\"_parent\"><img src=\"https://colab.research.google.com/assets/colab-badge.svg\" alt=\"Open In Colab\"/></a>"
      ]
    },
    {
      "cell_type": "markdown",
      "source": [
        "# Advanced Python Tax Calculator\n",
        "\n",
        "This script prompts the user to enter an income amount and then outputs:\n",
        "\n",
        "1. Tax payable\n",
        "2. Effective tax rate\n",
        "\n",
        "You can run the code and enter an amount, when prompted, to verify it calculates tax and effective tax rate (federal, state, and overall) correctly.\n",
        "\n"
      ],
      "metadata": {
        "id": "WR93fUY6uu04"
      }
    },
    {
      "cell_type": "code",
      "execution_count": 2,
      "metadata": {
        "id": "jM_nPxkMuIa2",
        "colab": {
          "base_uri": "https://localhost:8080/"
        },
        "outputId": "1abc76c5-9830-4157-bd44-b0f0e140d247"
      },
      "outputs": [
        {
          "output_type": "stream",
          "name": "stdout",
          "text": [
            "Federal Tax Payable: $12653.00\n",
            "State Tax Payable: $4092.85\n",
            "Total Tax Payable: $16745.85\n",
            "Effective Federal Tax Rate: 15.82%\n",
            "Effective State Tax Rate: 5.12%\n",
            "Overall Effective Tax Rate: 20.93%\n"
          ]
        }
      ],
      "source": [
        "def calculate_tax(income, tax_brackets):\n",
        "    tax_payable = 0\n",
        "    last_bracket_end = 0\n",
        "    for bracket_start, bracket_end, rate in tax_brackets:\n",
        "        if income > bracket_start:\n",
        "            taxable_income = min(income, bracket_end) - last_bracket_end\n",
        "            tax_payable += taxable_income * rate\n",
        "            last_bracket_end = bracket_end\n",
        "        else:\n",
        "            break\n",
        "    return tax_payable\n",
        "\n",
        "def calculate_federal_and_state_tax(income):\n",
        "    federal_tax_brackets = [\n",
        "        (0, 11600, 0.10),\n",
        "        (11601, 47150, 0.12),\n",
        "        (47151, 100525, 0.22),\n",
        "        (100526, 191950, 0.24),\n",
        "        (191951, 243725, 0.32),\n",
        "        (243726, 609350, 0.35),\n",
        "        (609351, float('inf'), 0.37),\n",
        "    ]\n",
        "\n",
        "    state_tax_brackets = [\n",
        "        (0, 10412, 0.01),\n",
        "        (10413, 24684, 0.02),\n",
        "        (24685, 38959, 0.04),\n",
        "        (38960, 54081, 0.06),\n",
        "        (54082, 68350, 0.08),\n",
        "        (68351, 349137, 0.093),\n",
        "        (349138, 418961, 0.103),\n",
        "        (418962, 698271, 0.113),\n",
        "        (698272, float('inf'), 0.123),\n",
        "    ]\n",
        "\n",
        "    federal_tax = calculate_tax(income, federal_tax_brackets)\n",
        "    state_tax = calculate_tax(income, state_tax_brackets)\n",
        "    total_tax = federal_tax + state_tax\n",
        "    effective_federal_tax_rate = (federal_tax / income) * 100 if income > 0 else 0\n",
        "    effective_state_tax_rate = (state_tax / income) * 100 if income > 0 else 0\n",
        "    effective_total_tax_rate = (total_tax / income) * 100 if income > 0 else 0\n",
        "\n",
        "    return federal_tax, state_tax, total_tax, effective_federal_tax_rate, effective_state_tax_rate, effective_total_tax_rate\n",
        "\n",
        "income = 80000  # Example income\n",
        "federal_tax, state_tax, total_tax, effective_federal_tax_rate, effective_state_tax_rate, effective_total_tax_rate = calculate_federal_and_state_tax(income)\n",
        "\n",
        "print(f\"Federal Tax Payable: ${federal_tax:.2f}\")\n",
        "print(f\"State Tax Payable: ${state_tax:.2f}\")\n",
        "print(f\"Total Tax Payable: ${total_tax:.2f}\")\n",
        "print(f\"Effective Federal Tax Rate: {effective_federal_tax_rate:.2f}%\")\n",
        "print(f\"Effective State Tax Rate: {effective_state_tax_rate:.2f}%\")\n",
        "print(f\"Overall Effective Tax Rate: {effective_total_tax_rate:.2f}%\")"
      ]
    }
  ]
}