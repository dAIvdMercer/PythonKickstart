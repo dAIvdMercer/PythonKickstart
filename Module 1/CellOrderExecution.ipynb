{
  "nbformat": 4,
  "nbformat_minor": 0,
  "metadata": {
    "colab": {
      "provenance": [],
      "include_colab_link": true
    },
    "kernelspec": {
      "name": "python3",
      "display_name": "Python 3"
    },
    "language_info": {
      "name": "python"
    }
  },
  "cells": [
    {
      "cell_type": "markdown",
      "metadata": {
        "id": "view-in-github",
        "colab_type": "text"
      },
      "source": [
        "<a href=\"https://colab.research.google.com/github/dAIvdMercer/PythonKickstart/blob/main/Module%201/CellOrderExecution.ipynb\" target=\"_parent\"><img src=\"https://colab.research.google.com/assets/colab-badge.svg\" alt=\"Open In Colab\"/></a>"
      ]
    },
    {
      "cell_type": "markdown",
      "source": [
        "#**Understand cell execution order and state.**\n",
        "\n",
        "**Step 1.** Execute the first code cell.\n",
        "\n",
        "- *You will get an error. This is because the variable name has not been assigned a value yet. So when the interpreter encounters the print statement, it tries to access the value of name, but since name has not been defined, it raises a NameError.*\n",
        "\n",
        "**Step 2.** Run the second cell containing the name variable.\n",
        "\n",
        "- *This step assigns a value to the variable name. There will be no output, since no print statement is present.*"
      ],
      "metadata": {
        "id": "TPgHR6E25S99"
      }
    },
    {
      "cell_type": "code",
      "execution_count": null,
      "metadata": {
        "id": "qPbtm-kD5Mik"
      },
      "outputs": [],
      "source": [
        "print(f\"Hello {name}\")"
      ]
    },
    {
      "cell_type": "code",
      "source": [
        "name = \"Alice\""
      ],
      "metadata": {
        "id": "PSc9xIla5TXV"
      },
      "execution_count": null,
      "outputs": []
    },
    {
      "cell_type": "markdown",
      "source": [
        "**Step 3.** Change the name variable to \"Bob\" in the code cell below.\n",
        "\n",
        "**Step 4.** Run the cells below in order (*i.e. top to bottom*)."
      ],
      "metadata": {
        "id": "2v4KJ_Ve5RB2"
      }
    },
    {
      "cell_type": "code",
      "source": [
        "print(f\"Hello {name}\")"
      ],
      "metadata": {
        "id": "HnEzWXMb5Rdr"
      },
      "execution_count": null,
      "outputs": []
    },
    {
      "cell_type": "code",
      "source": [
        "name = \"Alice\""
      ],
      "metadata": {
        "id": "alpkdplW5aE-"
      },
      "execution_count": null,
      "outputs": []
    },
    {
      "cell_type": "markdown",
      "source": [
        "- *The output should be \"Hello Alice\". This is because the state was updated only after the print statement ran and the bottom code cell reassigned the name variable to Bob.*\n",
        "\n",
        "**Step 5.** Change the variable name to “Mary” in the code cell below.\n",
        "\n",
        "**Step 6.** Run the cells in order.\n"
      ],
      "metadata": {
        "id": "XjyP8hUQ5cfv"
      }
    },
    {
      "cell_type": "code",
      "source": [
        "print(f\"Hello {name}\")"
      ],
      "metadata": {
        "id": "QBQRWXQo5Wqo"
      },
      "execution_count": null,
      "outputs": []
    },
    {
      "cell_type": "code",
      "source": [
        "name = \"Alice\""
      ],
      "metadata": {
        "id": "iWy7GXFv5asu"
      },
      "execution_count": null,
      "outputs": []
    },
    {
      "cell_type": "code",
      "source": [
        "print(f\"Hello {name}\")"
      ],
      "metadata": {
        "id": "0cMwy0X75WgE"
      },
      "execution_count": null,
      "outputs": []
    },
    {
      "cell_type": "markdown",
      "source": [
        "- *Note that the first print statement gives “Bob”, but the last one gives the updated value. This is because the state was updated only after the name variable was updated when that code cell ran.*\n",
        "\n",
        "Order of execution matters!"
      ],
      "metadata": {
        "id": "B90EGszcqxAz"
      }
    }
  ]
}