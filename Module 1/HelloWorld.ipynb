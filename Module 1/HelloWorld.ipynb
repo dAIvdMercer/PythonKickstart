{
  "nbformat": 4,
  "nbformat_minor": 0,
  "metadata": {
    "colab": {
      "provenance": [],
      "authorship_tag": "ABX9TyMR2hbqlTHJ03CoN5doFfqk",
      "include_colab_link": true
    },
    "kernelspec": {
      "name": "python3",
      "display_name": "Python 3"
    },
    "language_info": {
      "name": "python"
    }
  },
  "cells": [
    {
      "cell_type": "markdown",
      "metadata": {
        "id": "view-in-github",
        "colab_type": "text"
      },
      "source": [
        "<a href=\"https://colab.research.google.com/github/dAIvdMercer/PythonKickstart/blob/main/Module%201/HelloWorld.ipynb\" target=\"_parent\"><img src=\"https://colab.research.google.com/assets/colab-badge.svg\" alt=\"Open In Colab\"/></a>"
      ]
    },
    {
      "cell_type": "markdown",
      "source": [
        "# Print Hello World with GitHub & AI\n",
        "The goal of this exercise is to demonstrate how to:\n",
        "\n",
        "\n",
        "1.   open and work on a notebook from a GitHub repository\n",
        "2.   prompt AI to deliver code\n",
        "3.   work with notebooks containing multiple text and code cells\n",
        "\n",
        "\n",
        "\n",
        "\n"
      ],
      "metadata": {
        "id": "nPyaJNutFDYP"
      }
    },
    {
      "cell_type": "markdown",
      "source": [
        "## 1. Print \"Hello World!\"\n",
        "Manually write and execute your first line of Python code:\n",
        "\n",
        "\n",
        "1.   In the code cell below, type (or copy and paste) the following print statement:\n",
        "\n",
        "> `print(\"Hello World!\")`\n",
        "\n",
        "2.   Hit `CTRL + Enter` or hover over the code cell and click the play button on the left hand side to execute the code and see the result\n",
        "\n"
      ],
      "metadata": {
        "id": "u76kQuhd0AYm"
      }
    },
    {
      "cell_type": "code",
      "execution_count": null,
      "metadata": {
        "id": "C5MPsHuEz9gm"
      },
      "outputs": [],
      "source": []
    },
    {
      "cell_type": "markdown",
      "source": [
        "## 2. Print \"Hello World!\" using AI\n",
        "Prompt AI to write the same line of code:\n",
        "\n",
        "1.   Open your favorite AI (*we use ChatGPT*) and type in the following prompt:\n",
        "> `Write Python code to print \"Hello World!\"`\n",
        "2.   Copy and paste the resulting code into the code cell below\n",
        "3.   Hit `CTRL + Enter` or hover over the code cell and click the play button on the left hand side to execute the code and see the result\n",
        "\n",
        "\n",
        "\n",
        "\n",
        "\n"
      ],
      "metadata": {
        "id": "cUl84t0s0FGv"
      }
    },
    {
      "cell_type": "code",
      "source": [],
      "metadata": {
        "id": "MoO_uHjc0Gtw"
      },
      "execution_count": null,
      "outputs": []
    }
  ]
}