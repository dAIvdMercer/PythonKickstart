{
  "nbformat": 4,
  "nbformat_minor": 0,
  "metadata": {
    "colab": {
      "provenance": [],
      "authorship_tag": "ABX9TyM19tBmwH2qRqkza6T1ygiK",
      "include_colab_link": true
    },
    "kernelspec": {
      "name": "python3",
      "display_name": "Python 3"
    },
    "language_info": {
      "name": "python"
    }
  },
  "cells": [
    {
      "cell_type": "markdown",
      "metadata": {
        "id": "view-in-github",
        "colab_type": "text"
      },
      "source": [
        "<a href=\"https://colab.research.google.com/github/dAIvdMercer/PythonKickstart/blob/main/Module%201/Markdown_Notebook.ipynb\" target=\"_parent\"><img src=\"https://colab.research.google.com/assets/colab-badge.svg\" alt=\"Open In Colab\"/></a>"
      ]
    },
    {
      "cell_type": "markdown",
      "source": [
        "# **Let's make Header in Bold**\n",
        "## *Let's make this sub header in Italics*\n",
        ">This is a demonstration of Markdown syntax. We can easily add blockquotes like this.\n"
      ],
      "metadata": {
        "id": "O3RQ48YFOnkT"
      }
    },
    {
      "cell_type": "markdown",
      "source": [
        "## We will now create a bulleted list.\n",
        "1. We will upload:\n",
        "   - Hyperlink\n",
        "   - LaTeX equation\n",
        "   - Table\n"
      ],
      "metadata": {
        "id": "DTh-C2XCPdT4"
      }
    },
    {
      "cell_type": "markdown",
      "source": [
        "You can insert [hyperlinks](https://www.amplified.courses/login) to external websites.\n"
      ],
      "metadata": {
        "id": "qCoJ6JQXPeqn"
      }
    },
    {
      "cell_type": "markdown",
      "source": [
        "You can write LaTeX equations inline like this: $E=mc^2$ or display them:\n",
        "$$\n",
        "\\int_{-\\infty}^{\\infty} e^{-x^2} \\, dx = \\sqrt{\\pi}\n",
        "$$\n"
      ],
      "metadata": {
        "id": "qUOurx9YQMVT"
      }
    },
    {
      "cell_type": "markdown",
      "source": [
        "| Name  | Age | Gender |\n",
        "|-------|-----|--------|\n",
        "| Alice | 25  | Female |\n",
        "| Bob   | 30  | Male   |"
      ],
      "metadata": {
        "id": "Xr4t0qFRQM-Z"
      }
    }
  ]
}