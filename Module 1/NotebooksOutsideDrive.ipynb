{
  "nbformat": 4,
  "nbformat_minor": 0,
  "metadata": {
    "colab": {
      "provenance": [],
      "authorship_tag": "ABX9TyNjWqADaNu001SK2+Q3P1mE"
    },
    "kernelspec": {
      "name": "python3",
      "display_name": "Python 3"
    },
    "language_info": {
      "name": "python"
    }
  },
  "cells": [
    {
      "cell_type": "markdown",
      "source": [
        "**Step 1.** Edit the Notebook by adding a new code cell."
      ],
      "metadata": {
        "id": "d097E-uRYrcw"
      }
    },
    {
      "cell_type": "code",
      "source": [
        "# Prompt the user to enter their name\n",
        "name = input(\"Enter your name: \")\n",
        "\n",
        "# Prompt the user to enter their age\n",
        "age = input(\"Enter your age: \")\n",
        "\n",
        "# Print a personalized greeting with the user's name and age\n",
        "print(\"Hello, \" + name + \"! You are \" + age + \" years old.\")"
      ],
      "metadata": {
        "id": "6Uz-IXCmIY2f"
      },
      "execution_count": null,
      "outputs": []
    },
    {
      "cell_type": "markdown",
      "source": [
        "- *Notice the dialog near the help button above, stating 'Cannot save changes'. Hover over or click it for details.*\n",
        "\n",
        "**Do not click on Save a Copy in Drive.**\n",
        ">*While this allows directly saving your file, we will  explore an alternative. Copying the current file to your drive allows you to later access it via the Colab icon, but changes made on file from Github won't be saved automatically.*\n",
        "\n",
        "**Step 2.** Save a copy of the file to your local machine by clicking *File > Download > Dowload .ipynb*.\n",
        "\n",
        "**Step 3.** Open the saved file from your local machine in Colab. *To do so, use the Upload Notebook feature to access files stored in your local machine.*\n",
        "><b><i>Instructions:</i></b> *Open a New Notebook. And follow the below given video. [Refresh the page if you accidently close the video.]*\n"
      ],
      "metadata": {
        "id": "SuozOuNOZQXy"
      }
    },
    {
      "cell_type": "code",
      "source": [
        "from IPython.display import YouTubeVideo\n",
        "YouTubeVideo('ucBfzkPyalc', width = \"560\", height = \"380\")"
      ],
      "metadata": {
        "colab": {
          "base_uri": "https://localhost:8080/",
          "height": 401
        },
        "id": "53GuesEytnbD",
        "outputId": "de0c5114-5180-4b06-9c4f-a35f148c320a"
      },
      "execution_count": null,
      "outputs": [
        {
          "output_type": "execute_result",
          "data": {
            "text/plain": [
              "<IPython.lib.display.YouTubeVideo at 0x7d9dc6620b20>"
            ],
            "text/html": [
              "\n",
              "        <iframe\n",
              "            width=\"560\"\n",
              "            height=\"380\"\n",
              "            src=\"https://www.youtube.com/embed/ucBfzkPyalc\"\n",
              "            frameborder=\"0\"\n",
              "            allowfullscreen\n",
              "            \n",
              "        ></iframe>\n",
              "        "
            ],
            "image/jpeg": "[encoded data removed]"
          },
          "metadata": {},
          "execution_count": 6
        }
      ]
    },
    {
      "cell_type": "markdown",
      "source": [
        "**Step 4.** Add a code cell and in the space provided, type:\n",
        "print (\"I love chocolates!\")\n",
        "\n",
        "*Remember that changes made in step 4 hasn't been saved locally because you were working on a different copy in Drive. Ensure you're editing the correct version or re-download the updated one from Drive to reflect changes locally.*"
      ],
      "metadata": {
        "id": "K-2b9quOuBR_"
      }
    }
  ]
}