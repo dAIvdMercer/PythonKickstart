{
  "nbformat": 4,
  "nbformat_minor": 0,
  "metadata": {
    "colab": {
      "provenance": [],
      "authorship_tag": "ABX9TyN0kXmE9eCpC1DAeNbhc0PI",
      "include_colab_link": true
    },
    "kernelspec": {
      "name": "python3",
      "display_name": "Python 3"
    },
    "language_info": {
      "name": "python"
    }
  },
  "cells": [
    {
      "cell_type": "markdown",
      "metadata": {
        "id": "view-in-github",
        "colab_type": "text"
      },
      "source": [
        "<a href=\"https://colab.research.google.com/github/dAIvdMercer/PythonKickstart/blob/main/Module%201/TaxCalculator.ipynb\" target=\"_parent\"><img src=\"https://colab.research.google.com/assets/colab-badge.svg\" alt=\"Open In Colab\"/></a>"
      ]
    },
    {
      "cell_type": "markdown",
      "source": [
        "# Python Tax Calculator\n",
        "\n",
        "This script prompts the user to enter an income amount and then outputs:\n",
        "\n",
        "1. Total tax payable\n",
        "2. Effective tax rate\n",
        "\n",
        "You can run the code and enter an amount, when prompted, to verify it calculates tax and effective tax rate correctly."
      ],
      "metadata": {
        "id": "WR93fUY6uu04"
      }
    },
    {
      "cell_type": "code",
      "execution_count": null,
      "metadata": {
        "id": "jM_nPxkMuIa2"
      },
      "outputs": [],
      "source": [
        "def calculate_tax(income):\n",
        "    # Define the tax brackets and rates\n",
        "    brackets = [\n",
        "        (0, 11600, 0.10),\n",
        "        (11601, 47150, 0.12),\n",
        "        (47151, 100525, 0.22),\n",
        "        (100526, 191950, 0.24),\n",
        "        (191951, 243725, 0.32),\n",
        "        (243726, 609350, 0.35),\n",
        "        (609351, float('inf'), 0.37),\n",
        "    ]\n",
        "\n",
        "    # Calculate the tax\n",
        "    tax_payable = 0\n",
        "    for bracket in brackets:\n",
        "        if income > bracket[1]:\n",
        "            tax_payable += (bracket[1] - bracket[0] + 1) * bracket[2]\n",
        "        else:\n",
        "            tax_payable += (income - bracket[0]) * bracket[2]\n",
        "            break\n",
        "\n",
        "    # Calculate the overall tax rate\n",
        "    overall_tax_rate = (tax_payable / income) * 100 if income > 0 else 0\n",
        "\n",
        "    return tax_payable, overall_tax_rate\n",
        "\n",
        "# Example usage:\n",
        "income = float(input(\"Enter your income: \"))\n",
        "tax_payable, overall_tax_rate = calculate_tax(income)\n",
        "print(f\"Total Tax Payable: ${tax_payable:.2f}\")\n",
        "print(f\"Effective Tax Rate: {overall_tax_rate:.2f}%\")"
      ]
    }
  ]
}