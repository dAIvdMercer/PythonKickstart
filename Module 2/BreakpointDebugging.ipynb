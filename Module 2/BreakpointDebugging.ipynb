{
  "nbformat": 4,
  "nbformat_minor": 0,
  "metadata": {
    "colab": {
      "provenance": [],
      "include_colab_link": true
    },
    "kernelspec": {
      "name": "python3",
      "display_name": "Python 3"
    },
    "language_info": {
      "name": "python"
    }
  },
  "cells": [
    {
      "cell_type": "markdown",
      "metadata": {
        "id": "view-in-github",
        "colab_type": "text"
      },
      "source": [
        "<a href=\"https://colab.research.google.com/github/dAIvdMercer/PythonKickstart/blob/main/Module%202/BreakpointDebugging.ipynb\" target=\"_parent\"><img src=\"https://colab.research.google.com/assets/colab-badge.svg\" alt=\"Open In Colab\"/></a>"
      ]
    },
    {
      "cell_type": "markdown",
      "source": [
        "# Breakpoint Debugging\n",
        "This function has an error.\n",
        "* **Step 1**: Run it to see the traceback\n",
        "* **Step 2**: Confirm the code is broken\n",
        "\n",
        "(*Hint: there may not be an explicit error, but check the answer against the numbers list provided and the expected result - i.e. maximum value.*)"
      ],
      "metadata": {
        "id": "Dqli68cCqsfZ"
      }
    },
    {
      "cell_type": "code",
      "execution_count": null,
      "metadata": {
        "id": "vybe56Y_qmE4"
      },
      "outputs": [],
      "source": [
        "def find_max(numbers):\n",
        "    max_number = numbers[0]\n",
        "    for number in numbers:\n",
        "        if number > max_number:\n",
        "            max_number -= number\n",
        "    return max_number\n",
        "\n",
        "numbers_list = [3, 1, 4, 1, 5, 9, 2]\n",
        "print(\"The maximum number is:\", find_max(numbers_list))"
      ]
    },
    {
      "cell_type": "markdown",
      "source": [
        "# Debug with Breakpoint\n",
        "The same function can now be debugged by inserting a breakpoint() call in Line 4.\n",
        "* **Step 1**: Run the code to trigger the IPython debugger (*ipdb*)\n",
        "* **Step 2**: Check the variables \"number\" and \"max_number\", starting with 1 until you have discovered your error.\n",
        "* **Step 3**: Exit the debugger, correct the error and rerun the code."
      ],
      "metadata": {
        "id": "tGCbpCz2q6JM"
      }
    },
    {
      "cell_type": "code",
      "execution_count": null,
      "metadata": {
        "id": "gOCMgr5ArEVb"
      },
      "outputs": [],
      "source": [
        "def find_max(numbers):\n",
        "    max_number = numbers[0]\n",
        "    for number in numbers:\n",
        "        breakpoint()\n",
        "        if number > max_number:\n",
        "            max_number -= number\n",
        "    return max_number\n",
        "\n",
        "numbers_list = [3, 1, 4, 1, 5, 9, 2]\n",
        "print(\"The maximum number is:\", find_max(numbers_list))"
      ]
    }
  ]
}