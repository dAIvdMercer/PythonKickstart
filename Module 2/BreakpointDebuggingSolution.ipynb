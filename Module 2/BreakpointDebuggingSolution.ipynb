{
  "nbformat": 4,
  "nbformat_minor": 0,
  "metadata": {
    "colab": {
      "provenance": [],
      "include_colab_link": true
    },
    "kernelspec": {
      "name": "python3",
      "display_name": "Python 3"
    },
    "language_info": {
      "name": "python"
    }
  },
  "cells": [
    {
      "cell_type": "markdown",
      "metadata": {
        "id": "view-in-github",
        "colab_type": "text"
      },
      "source": [
        "<a href=\"https://colab.research.google.com/github/dAIvdMercer/PythonKickstart/blob/main/Module%202/BreakpointDebuggingSample.ipynb\" target=\"_parent\"><img src=\"https://colab.research.google.com/assets/colab-badge.svg\" alt=\"Open In Colab\"/></a>"
      ]
    },
    {
      "cell_type": "code",
      "source": [
        "def find_max(numbers):\n",
        "    max_number = numbers[0]\n",
        "    for number in numbers:\n",
        "        breakpoint()\n",
        "        if number > max_number:\n",
        "            max_number = number #We removed the \"-\" symbol here because it was bringing in a negative number\n",
        "    return max_number\n",
        "\n",
        "numbers_list = [3, 1, 4, 1, 5, 9, 2]\n",
        "print(\"The maximum number is:\", find_max(numbers_list))"
      ],
      "metadata": {
        "id": "1gklWAPah2Ek"
      },
      "execution_count": null,
      "outputs": []
    }
  ]
}
