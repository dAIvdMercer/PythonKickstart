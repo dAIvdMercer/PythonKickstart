{
  "nbformat": 4,
  "nbformat_minor": 0,
  "metadata": {
    "colab": {
      "provenance": [],
      "authorship_tag": "ABX9TyOiBPKy55Avz2KFr0YhVgV2",
      "include_colab_link": true
    },
    "kernelspec": {
      "name": "python3",
      "display_name": "Python 3"
    },
    "language_info": {
      "name": "python"
    }
  },
  "cells": [
    {
      "cell_type": "markdown",
      "metadata": {
        "id": "view-in-github",
        "colab_type": "text"
      },
      "source": [
        "<a href=\"https://colab.research.google.com/github/dAIvdMercer/PythonKickstart/blob/main/Module%202/BuggyFunction.ipynb\" target=\"_parent\"><img src=\"https://colab.research.google.com/assets/colab-badge.svg\" alt=\"Open In Colab\"/></a>"
      ]
    },
    {
      "cell_type": "code",
      "execution_count": null,
      "metadata": {
        "id": "1ax2enSJi6de"
      },
      "outputs": [],
      "source": [
        "def buggy_function(items, divisor):\n",
        "    total = 0\n",
        "\n",
        "    # Syntax Error: Missing colon at the end of the for loop\n",
        "    for item in items\n",
        "        # Type Error: Adding integer to a string\n",
        "        total = total + \"1\"  # Type Error here\n",
        "\n",
        "    # Logic Error: Should divide by len(items) instead of len(divisor)\n",
        "    average = total / len(divisor)  # Logic Error here\n",
        "\n",
        "    # Name Error: 'result' is not defined\n",
        "    print(\"The result is:\", result)  # Name Error here\n",
        "\n",
        "    # Runtime Error: Division by zero possibility\n",
        "    division_result = 100 / divisor  # Runtime Error here\n",
        "\n",
        "    # Index Error: Accessing out of range index\n",
        "    first_item = items[10]  # Index Error here\n",
        "\n",
        "    # Semantic Error: Misleading message, should be average not total\n",
        "    return \"The total is: \" + str(average)  # Semantic Error here\n",
        "\n",
        "# Example usage\n",
        "error_prone_function([1, 2, 3], 0)  # This will trigger various errors"
      ]
    }
  ]
}