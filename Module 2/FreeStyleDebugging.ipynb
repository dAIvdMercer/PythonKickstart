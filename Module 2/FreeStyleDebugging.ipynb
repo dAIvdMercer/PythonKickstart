{
  "nbformat": 4,
  "nbformat_minor": 0,
  "metadata": {
    "colab": {
      "provenance": [],
      "include_colab_link": true
    },
    "kernelspec": {
      "name": "python3",
      "display_name": "Python 3"
    },
    "language_info": {
      "name": "python"
    }
  },
  "cells": [
    {
      "cell_type": "markdown",
      "metadata": {
        "id": "view-in-github",
        "colab_type": "text"
      },
      "source": [
        "<a href=\"https://colab.research.google.com/github/dAIvdMercer/PythonKickstart/blob/main/Module%202/FreeStyleDebugging.ipynb\" target=\"_parent\"><img src=\"https://colab.research.google.com/assets/colab-badge.svg\" alt=\"Open In Colab\"/></a>"
      ]
    },
    {
      "cell_type": "markdown",
      "source": [
        "# FreeStyle Debugging\n",
        "This poor function has a bunch of different errors - each of a different type.\n",
        "\n",
        "Can you debug them all and save the function?\n",
        "\n",
        "Run the code to begin."
      ],
      "metadata": {
        "id": "Q1SXCWX2ZX1w"
      }
    },
    {
      "cell_type": "code",
      "execution_count": null,
      "metadata": {
        "id": "hqAtoiytVd63"
      },
      "outputs": [],
      "source": [
        "def buggy_function(items, divisor):\n",
        "    total = 0\n",
        "\n",
        "    for item in items\n",
        "        total = total + \"1\"\n",
        "\n",
        "    average = total / len(divisor)\n",
        "\n",
        "    print(\"The result is:\", result)\n",
        "\n",
        "    division_result = 100 / divisor\n",
        "\n",
        "    first_item = items[10]\n",
        "\n",
        "    return \"The total is: \" + str(average)\n",
        "\n",
        "# Example usage\n",
        "error_prone_function([1, 2, 3], 0)\n"
      ]
    }
  ]
}