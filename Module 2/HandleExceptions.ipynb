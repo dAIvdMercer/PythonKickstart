{
  "nbformat": 4,
  "nbformat_minor": 0,
  "metadata": {
    "colab": {
      "provenance": [],
      "include_colab_link": true
    },
    "kernelspec": {
      "name": "python3",
      "display_name": "Python 3"
    },
    "language_info": {
      "name": "python"
    }
  },
  "cells": [
    {
      "cell_type": "markdown",
      "metadata": {
        "id": "view-in-github",
        "colab_type": "text"
      },
      "source": [
        "<a href=\"https://colab.research.google.com/github/dAIvdMercer/PythonKickstart/blob/main/Module%202/HandleExceptions.ipynb\" target=\"_parent\"><img src=\"https://colab.research.google.com/assets/colab-badge.svg\" alt=\"Open In Colab\"/></a>"
      ]
    },
    {
      "cell_type": "code",
      "source": [],
      "metadata": {
        "id": "tSN5F4oB6dBB"
      },
      "execution_count": null,
      "outputs": []
    },
    {
      "cell_type": "markdown",
      "source": [],
      "metadata": {
        "id": "bO-BhEDX71l3"
      }
    },
    {
      "cell_type": "markdown",
      "source": [
        "# **Handle Exceptions**\n",
        "\n",
        "This script has a potential exception and we are going to write code to handle any exceptions before the happen.\n",
        "\n",
        "*   **Step 1**: Run the code\n",
        "*   **Step 2**: Improve the code by wrapping the line in a try-except block and print a helpful warning if the user enters anything other than an integer (*Hint: the error type you want to catch will be shown in the traceback*)\n",
        "\n"
      ],
      "metadata": {
        "id": "UXNodMAY734q"
      }
    },
    {
      "cell_type": "code",
      "execution_count": null,
      "metadata": {
        "id": "0jTFfUQU7JVy"
      },
      "outputs": [],
      "source": [
        "user_input = int(input(\"Enter an integer: \"))"
      ]
    }
  ]
}