{
  "nbformat": 4,
  "nbformat_minor": 0,
  "metadata": {
    "colab": {
      "provenance": [],
      "include_colab_link": true
    },
    "kernelspec": {
      "name": "python3",
      "display_name": "Python 3"
    },
    "language_info": {
      "name": "python"
    }
  },
  "cells": [
    {
      "cell_type": "markdown",
      "metadata": {
        "id": "view-in-github",
        "colab_type": "text"
      },
      "source": [
        "<a href=\"https://colab.research.google.com/github/dAIvdMercer/PythonKickstart/blob/main/Module%202/MagicCommandDebugging.ipynb\" target=\"_parent\"><img src=\"https://colab.research.google.com/assets/colab-badge.svg\" alt=\"Open In Colab\"/></a>"
      ]
    },
    {
      "cell_type": "markdown",
      "source": [
        "# %%debug\n",
        "%%debug magic commands work at the cell level.\n",
        "  \n",
        "*   Add the %%debug command in the correct place.\n",
        "*   Run this code and identify the error."
      ],
      "metadata": {
        "id": "zAoloBQZ1fhq"
      }
    },
    {
      "cell_type": "code",
      "execution_count": null,
      "metadata": {
        "id": "CNpTgJX61TbD"
      },
      "outputs": [],
      "source": [
        "def divide(a, b):\n",
        "    result = a / b\n",
        "    return result\n",
        "\n",
        "x = 10\n",
        "y = 0\n",
        "result = divide(x, y)"
      ]
    },
    {
      "cell_type": "markdown",
      "source": [
        "# %debug\n",
        "%debug magic commands work at the line level.\n",
        "*   Use %debug to identify the error."
      ],
      "metadata": {
        "id": "jeeVxuhg1_iV"
      }
    },
    {
      "cell_type": "code",
      "source": [
        "def subtract(a, b):\n",
        "    result = a - b\n",
        "    return result\n",
        "\n",
        "x = 5\n",
        "result = subtract(x, z)"
      ],
      "metadata": {
        "id": "q2CKBJUk1dzG"
      },
      "execution_count": null,
      "outputs": []
    }
  ]
}