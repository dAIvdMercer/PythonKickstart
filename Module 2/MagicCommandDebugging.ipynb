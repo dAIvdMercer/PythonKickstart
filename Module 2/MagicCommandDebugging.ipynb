{
  "nbformat": 4,
  "nbformat_minor": 0,
  "metadata": {
    "colab": {
      "provenance": [],
      "include_colab_link": true
    },
    "kernelspec": {
      "name": "python3",
      "display_name": "Python 3"
    },
    "language_info": {
      "name": "python"
    }
  },
  "cells": [
    {
      "cell_type": "markdown",
      "metadata": {
        "id": "view-in-github",
        "colab_type": "text"
      },
      "source": [
        "<a href=\"https://colab.research.google.com/github/dAIvdMercer/PythonKickstart/blob/main/Module%202/MagicCommandDebugging.ipynb\" target=\"_parent\"><img src=\"https://colab.research.google.com/assets/colab-badge.svg\" alt=\"Open In Colab\"/></a>"
      ]
    },
    {
      "cell_type": "markdown",
      "source": [
        "# Debug with %%debug\n",
        "%%debug magic commands work at the cell level.\n",
        "  \n",
        "*   Add the %%debug command in the correct place.\n",
        "*   Run this code and identify the error."
      ],
      "metadata": {
        "id": "zAoloBQZ1fhq"
      }
    },
    {
      "cell_type": "code",
      "execution_count": null,
      "metadata": {
        "id": "CNpTgJX61TbD"
      },
      "outputs": [],
      "source": [
        "def average_excluding_zeros(numbers):\n",
        "    total = 0\n",
        "    count = 0\n",
        "    for number in numbers:\n",
        "        if number != 0:\n",
        "            total += number\n",
        "            count += 1\n",
        "    return total / count\n",
        "\n",
        "# Example list of numbers\n",
        "numbers = [10, 0, 5, 20, 0, 5]\n",
        "\n",
        "# Calculate the average\n",
        "avg = average_excluding_zeros(numbers)\n",
        "print(\"Average:\", avg)"
      ]
    },
    {
      "cell_type": "markdown",
      "source": [
        "# Debug with %debug\n",
        "%debug magic commands work at the line level.\n",
        "*   Add the %debug command in the correct place.\n",
        "*   Run this code and identify the error."
      ],
      "metadata": {
        "id": "jeeVxuhg1_iV"
      }
    },
    {
      "cell_type": "code",
      "source": [
        "def subtract(a, b):\n",
        "    result = a - b\n",
        "    return result\n",
        "\n",
        "x = 5\n",
        "result = subtract(x, z)"
      ],
      "metadata": {
        "id": "q2CKBJUk1dzG"
      },
      "execution_count": null,
      "outputs": []
    }
  ]
}