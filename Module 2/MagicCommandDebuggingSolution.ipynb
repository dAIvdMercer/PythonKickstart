{
  "nbformat": 4,
  "nbformat_minor": 0,
  "metadata": {
    "colab": {
      "provenance": [],
      "include_colab_link": true
    },
    "kernelspec": {
      "name": "python3",
      "display_name": "Python 3"
    },
    "language_info": {
      "name": "python"
    }
  },
  "cells": [
    {
      "cell_type": "markdown",
      "metadata": {
        "id": "view-in-github",
        "colab_type": "text"
      },
      "source": [
        "<a href=\"https://colab.research.google.com/github/dAIvdMercer/PythonKickstart/blob/main/Module%202/MagicCommandDebuggingSample.ipynb\" target=\"_parent\"><img src=\"https://colab.research.google.com/assets/colab-badge.svg\" alt=\"Open In Colab\"/></a>"
      ]
    },
    {
      "cell_type": "markdown",
      "source": [
        "# %%debug Magic Command\n",
        "%%debug magic commands work at the cell level.\n",
        "  \n",
        "*   Add the %%debug command.\n",
        "*   Run this code and identify the error."
      ],
      "metadata": {
        "id": "zAoloBQZ1fhq"
      }
    },
    {
      "cell_type": "code",
      "execution_count": null,
      "metadata": {
        "id": "CNpTgJX61TbD"
      },
      "outputs": [],
      "source": [
        "%%debug\n",
        "\n",
        "def average_excluding_zeros(numbers):\n",
        "    total = 0\n",
        "    count = 0\n",
        "    for number in numbers:\n",
        "        if number != 0:\n",
        "            total += number\n",
        "            count += 1\n",
        "    return total / count\n",
        "\n",
        "numbers = [10, 0, 5, 20, 0, 5]\n",
        "avg = average_excluding_zeros(numbers)\n",
        "print(\"Average:\", avg)"
      ]
    },
    {
      "cell_type": "markdown",
      "source": [
        "# %debug Magic Command\n",
        "%debug magic commands work at the line level.\n",
        "*   Run this code and identify the error.\n",
        "*   Add the %debug command."
      ],
      "metadata": {
        "id": "jeeVxuhg1_iV"
      }
    },
    {
      "cell_type": "code",
      "source": [
        "# Define a function (with a bug)\n",
        "def subtract(a, b):\n",
        "    result = a - b\n",
        "    return result\n",
        "\n",
        "# Call the function with inputs\n",
        "x = 5\n",
        "result = subtract(x, z) # There is no z-variable, so we need to add it."
      ],
      "metadata": {
        "id": "q2CKBJUk1dzG"
      },
      "execution_count": null,
      "outputs": []
    },
    {
      "cell_type": "code",
      "source": [
        "%debug"
      ],
      "metadata": {
        "id": "RvWQs45rJcm7"
      },
      "execution_count": null,
      "outputs": []
    }
  ]
}
