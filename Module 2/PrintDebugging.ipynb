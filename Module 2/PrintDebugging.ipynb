{
  "nbformat": 4,
  "nbformat_minor": 0,
  "metadata": {
    "colab": {
      "provenance": [],
      "include_colab_link": true
    },
    "kernelspec": {
      "name": "python3",
      "display_name": "Python 3"
    },
    "language_info": {
      "name": "python"
    }
  },
  "cells": [
    {
      "cell_type": "markdown",
      "metadata": {
        "id": "view-in-github",
        "colab_type": "text"
      },
      "source": [
        "<a href=\"https://colab.research.google.com/github/dAIvdMercer/PythonKickstart/blob/main/Module%202/PrintDebugging.ipynb\" target=\"_parent\"><img src=\"https://colab.research.google.com/assets/colab-badge.svg\" alt=\"Open In Colab\"/></a>"
      ]
    },
    {
      "cell_type": "markdown",
      "source": [
        "# Debugging with print()\n",
        "\n",
        "This script contains two functions that calculate the final price of a product after a discount and tax have been applied.\n",
        "\n",
        "It seems to return the wrong result based on the input data. Can you fix it?\n",
        "\n",
        "Tips for debugging with print():\n",
        "\n",
        "* **Be Specific with Your Output**: When printing values for debugging, clearly label them. For example, use print(\"Variable x:\", x) instead of just print(x). This makes it easier to know what each output represents, especially when you have multiple print statements.\n",
        "\n",
        "* **Print at Key Points**: Place print statements at critical points in your code. This helps in tracking the flow of the program and the state of variables at these key locations.\n",
        "\n",
        "* **Print Variable Types**: Sometimes bugs are due to variables not being the type you expect. Printing the type of a variable (print(type(x))) can help identify these issues.\n",
        "\n",
        "* **Use Print to Show Program Flow**: Print statements can be used to show how the flow of control moves through your code."
      ],
      "metadata": {
        "id": "0u2amn8PxiSF"
      }
    },
    {
      "cell_type": "code",
      "execution_count": null,
      "metadata": {
        "id": "xyd-EhTKte2r"
      },
      "outputs": [],
      "source": [
        "# Define variables for price, discount percentage, and tax percentage\n",
        "price = 100\n",
        "discount_percentage = 10\n",
        "tax_percentage = 8\n",
        "\n",
        "# Calculate the discounted price\n",
        "discount_amount = price * (discount_percentage / 0)\n",
        "discounted_price = price - discount_amount\n",
        "\n",
        "# Calculate the tax amount and final price\n",
        "tax_amount = discounted_price * (tax_percentage / 100)\n",
        "final_price = discounted_price + tax_amount\n",
        "\n",
        "print(\"Original Price:\", price)\n",
        "print(\"Discount Amount:\", discount_amount)\n",
        "print(\"Discounted Price:\", discounted_price)\n",
        "print(\"Tax Amount:\", tax_amount)\n",
        "print(\"Final Price (including tax):\", final_price)"
      ]
    }
  ]
}