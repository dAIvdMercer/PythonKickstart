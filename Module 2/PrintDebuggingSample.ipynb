{
  "nbformat": 4,
  "nbformat_minor": 0,
  "metadata": {
    "colab": {
      "provenance": [],
      "authorship_tag": "ABX9TyPY53O9Lf86dxjcpX7eVgdi",
      "include_colab_link": true
    },
    "kernelspec": {
      "name": "python3",
      "display_name": "Python 3"
    },
    "language_info": {
      "name": "python"
    }
  },
  "cells": [
    {
      "cell_type": "markdown",
      "metadata": {
        "id": "view-in-github",
        "colab_type": "text"
      },
      "source": [
        "<a href=\"https://colab.research.google.com/github/dAIvdMercer/PythonKickstart/blob/main/Module%202/PrintDebuggingSample.ipynb\" target=\"_parent\"><img src=\"https://colab.research.google.com/assets/colab-badge.svg\" alt=\"Open In Colab\"/></a>"
      ]
    },
    {
      "cell_type": "markdown",
      "source": [
        "# Debugging with print()\n",
        "\n",
        "This script calculates the final price of a product after a discount and tax have been applied.\n",
        "\n",
        "It seems to return the wrong result based on the input data. Can you fix it?\n",
        "\n",
        "Tips for debugging with print():\n",
        "\n",
        "* **Be specific with your output**: When printing values for debugging, clearly label them. For example, use print(\"Variable x:\", x) instead of just print(x). This makes it easier to know what each output represents, especially when you have multiple print statements.\n",
        "\n",
        "* **Print at key points**: Place print statements at strategic points in your code. Think about where it would be helpful to track the flow of the program and the state of variables at key locations.\n",
        "\n",
        "* **Print variable types**: Sometimes bugs are due to variables not being the type you expect. Printing the type of a variable (print(type(x))) can help identify these issues.\n",
        "\n",
        "* **Use print to show program flow**: Print statements can be used to show how the flow of control moves through your code."
      ],
      "metadata": {
        "id": "Kcj3aFSSzVGA"
      }
    },
    {
      "cell_type": "code",
      "execution_count": null,
      "metadata": {
        "colab": {
          "base_uri": "https://localhost:8080/"
        },
        "id": "hcKOpCjZzFXx",
        "outputId": "84549d2a-ca25-48eb-d352-fcf465d66cc4"
      },
      "outputs": [
        {
          "output_type": "stream",
          "name": "stdout",
          "text": [
            "Discount: 10.0\n",
            "Discounted Price: 90.0\n",
            "Tax: 7.2\n",
            "Final Price (including tax): 97.2\n"
          ]
        }
      ],
      "source": [
        "# Define variables for price, discount percentage, and tax percentage\n",
        "price = 100\n",
        "discount_percentage = 10\n",
        "tax_percentage = 8\n",
        "\n",
        "# Calculate the discounted price\n",
        "discount_amount = price * (discount_percentage / 100)    # On the first execution, we discover there is a ZeroDivisionError, so we change 0 to 100\n",
        "discounted_price = price - discount_amount\n",
        "\n",
        "print(\"Discount:\",discount_amount)\n",
        "print(\"Discounted Price:\",discounted_price)\n",
        "\n",
        "# Calculate the tax amount and final price\n",
        "tax_amount = discounted_price * (tax_percentage / 100)    # On the second execution, an error type is not explicit, but we know that there is an error. In this case, we should be dividing by 100 and not 10\n",
        "final_price = discounted_price + tax_amount\n",
        "\n",
        "print(\"Tax:\", tax_amount)\n",
        "\n",
        "print(\"Final Price (including tax):\", final_price)"
      ]
    }
  ]
}