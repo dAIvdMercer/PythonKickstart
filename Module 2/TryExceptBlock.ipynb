{
  "nbformat": 4,
  "nbformat_minor": 0,
  "metadata": {
    "colab": {
      "provenance": [],
      "authorship_tag": "ABX9TyP5ufw+x30YVsZvRtlWlun7",
      "include_colab_link": true
    },
    "kernelspec": {
      "name": "python3",
      "display_name": "Python 3"
    },
    "language_info": {
      "name": "python"
    }
  },
  "cells": [
    {
      "cell_type": "markdown",
      "metadata": {
        "id": "view-in-github",
        "colab_type": "text"
      },
      "source": [
        "<a href=\"https://colab.research.google.com/github/dAIvdMercer/PythonKickstart/blob/main/Module%202/TryExceptBlock.ipynb\" target=\"_parent\"><img src=\"https://colab.research.google.com/assets/colab-badge.svg\" alt=\"Open In Colab\"/></a>"
      ]
    },
    {
      "cell_type": "code",
      "execution_count": null,
      "metadata": {
        "id": "E8Y5MK3SgXMi"
      },
      "outputs": [],
      "source": [
        "try:\n",
        "    user_input = int(input(\"Enter an integer: \"))\n",
        "    print(\"Input is an integer:\", user_input) #input a number in alphabetical form e.g. one\n",
        "except ValueError:\n",
        "    print(\"Invalid input. Please enter an integer.\")"
      ]
    }
  ]
}