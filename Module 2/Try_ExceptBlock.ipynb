{
  "nbformat": 4,
  "nbformat_minor": 0,
  "metadata": {
    "colab": {
      "provenance": [],
      "authorship_tag": "ABX9TyPOdgYiIuuZG8jOK9czUiFW",
      "include_colab_link": true
    },
    "kernelspec": {
      "name": "python3",
      "display_name": "Python 3"
    },
    "language_info": {
      "name": "python"
    }
  },
  "cells": [
    {
      "cell_type": "markdown",
      "metadata": {
        "id": "view-in-github",
        "colab_type": "text"
      },
      "source": [
        "<a href=\"https://colab.research.google.com/github/dAIvdMercer/PythonKickstart/blob/main/Module%202/Try_ExceptBlock.ipynb\" target=\"_parent\"><img src=\"https://colab.research.google.com/assets/colab-badge.svg\" alt=\"Open In Colab\"/></a>"
      ]
    },
    {
      "cell_type": "code",
      "execution_count": null,
      "metadata": {
        "id": "E8Y5MK3SgXMi",
        "colab": {
          "base_uri": "https://localhost:8080/"
        },
        "outputId": "ae2f1424-80e8-4341-a468-ec5ff5f7d0e7"
      },
      "outputs": [
        {
          "output_type": "stream",
          "name": "stdout",
          "text": [
            "Enter an integer: one\n",
            "Invalid input. Please enter an integer.\n"
          ]
        }
      ],
      "source": [
        "try:\n",
        "    user_input = int(input(\"Enter an integer: \"))\n",
        "    print(\"Input is an integer:\", user_input) #input a number in alphabetical form e.g. one\n",
        "\n",
        "except ValueError:\n",
        "    print(\"Invalid input. Please enter an integer.\")\n"
      ]
    }
  ]
}