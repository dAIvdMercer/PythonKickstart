{
  "nbformat": 4,
  "nbformat_minor": 0,
  "metadata": {
    "colab": {
      "provenance": [],
      "include_colab_link": true
    },
    "kernelspec": {
      "name": "python3",
      "display_name": "Python 3"
    },
    "language_info": {
      "name": "python"
    }
  },
  "cells": [
    {
      "cell_type": "markdown",
      "metadata": {
        "id": "view-in-github",
        "colab_type": "text"
      },
      "source": [
        "<a href=\"https://colab.research.google.com/github/dAIvdMercer/PythonKickstart/blob/main/Module%203/ArithmeticOperators.ipynb\" target=\"_parent\"><img src=\"https://colab.research.google.com/assets/colab-badge.svg\" alt=\"Open In Colab\"/></a>"
      ]
    },
    {
      "cell_type": "code",
      "execution_count": null,
      "metadata": {
        "id": "JPzczzrpIDY2"
      },
      "outputs": [],
      "source": [
        "# Addition (+)\n",
        "addition = 5 + 3\n",
        "print(\"Addition: 5 + 3 =\", addition)\n",
        "\n",
        "# Subtraction (-)\n",
        "subtraction = 5 - 3\n",
        "print(\"Subtraction: 5 - 3 =\", subtraction)\n",
        "\n",
        "# Multiplication (*)\n",
        "multiplication = 5 * 3\n",
        "print(\"Multiplication: 5 * 3 =\", multiplication)\n",
        "\n",
        "# Division (/)\n",
        "division = 5 / 3\n",
        "print(\"Division: 5 / 3 =\", division)\n",
        "\n",
        "# Modulo (%)\n",
        "modulo = 5 % 3\n",
        "print(\"Modulo: 5 % 3 =\", modulo)\n",
        "\n",
        "# Power (**)\n",
        "power = 5 ** 3\n",
        "print(\"Power: 5 ** 3 =\", power)\n",
        "\n",
        "# Floor Division (//)\n",
        "floor_division = 5 // 3\n",
        "print(\"Floor Division: 5 // 3 =\", floor_division)\n"
      ]
    }
  ]
}