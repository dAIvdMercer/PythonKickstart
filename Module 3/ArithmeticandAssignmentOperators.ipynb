{
  "nbformat": 4,
  "nbformat_minor": 0,
  "metadata": {
    "colab": {
      "provenance": [],
      "authorship_tag": "ABX9TyN4qkkowBommM/zuoVWgpal",
      "include_colab_link": true
    },
    "kernelspec": {
      "name": "python3",
      "display_name": "Python 3"
    },
    "language_info": {
      "name": "python"
    }
  },
  "cells": [
    {
      "cell_type": "markdown",
      "metadata": {
        "id": "view-in-github",
        "colab_type": "text"
      },
      "source": [
        "<a href=\"https://colab.research.google.com/github/dAIvdMercer/PythonKickstart/blob/main/Module%203/ArithmeticandAssignmentOperators.ipynb\" target=\"_parent\"><img src=\"https://colab.research.google.com/assets/colab-badge.svg\" alt=\"Open In Colab\"/></a>"
      ]
    },
    {
      "cell_type": "markdown",
      "source": [
        "# Arithmetic and Assignment Operators\n",
        "Learn how to use arithmetic and assignment operators to calculate inventory, apply discounts, and determine total sales and profits in a business scenario.\n",
        "\n",
        "**Step 1:** Run the cell below to initialize your variables."
      ],
      "metadata": {
        "id": "LPrLZqu5QXDp"
      }
    },
    {
      "cell_type": "code",
      "source": [
        "# Initialize variables\n",
        "inventory_value = 1000\n",
        "expenses = 400\n",
        "cost_price_per_item = 2\n",
        "selling_price = 2.5"
      ],
      "metadata": {
        "id": "dXplIKlo5Ioh"
      },
      "execution_count": null,
      "outputs": []
    },
    {
      "cell_type": "markdown",
      "source": [
        "**Step 2:** Write the code to calculate the total number of items in the inventory using the floor division operator and then print the number of items in the below code cell."
      ],
      "metadata": {
        "id": "V9KA-pONQ8e9"
      }
    },
    {
      "cell_type": "code",
      "source": [
        "# Calculate number of items in inventory\n"
      ],
      "metadata": {
        "id": "r3dx42vkRCIN"
      },
      "execution_count": null,
      "outputs": []
    },
    {
      "cell_type": "markdown",
      "source": [
        "**Step 3:** In the below code cell, write the code to calculate the new selling price after applying a 10% discount. Ensure the selling price is first doubled *(using assignment operator and not this arithmetic operator *)*, then the discount applied.\n",
        "\n",
        "*Hint: Selling price after discount should be $4.5.*"
      ],
      "metadata": {
        "id": "PutjoR4TRVX0"
      }
    },
    {
      "cell_type": "code",
      "source": [
        "# Calculate selling price after 10% discount\n"
      ],
      "metadata": {
        "id": "WBLNGoIfRb_n"
      },
      "execution_count": null,
      "outputs": []
    },
    {
      "cell_type": "markdown",
      "source": [
        "**Step 4:** Write a code to calculate the total sales by multiplying the adjusted selling price by the number of items in inventory and print the result."
      ],
      "metadata": {
        "id": "50U7ulJsReCF"
      }
    },
    {
      "cell_type": "code",
      "source": [
        "# Calculate total sales\n"
      ],
      "metadata": {
        "id": "0Tl0Ry7xRjER"
      },
      "execution_count": null,
      "outputs": []
    },
    {
      "cell_type": "markdown",
      "source": [
        "**Step 5:** Write a code to calculate the profit by subtracting the expenses and the cost of the inventory from the total sales and print the profit.\n",
        "\n",
        "*Hint: Profit should be $850.*"
      ],
      "metadata": {
        "id": "-qra6T1wRlaM"
      }
    },
    {
      "cell_type": "code",
      "source": [
        "# Calculate profit\n"
      ],
      "metadata": {
        "id": "-QkE2xpHRqeK"
      },
      "execution_count": null,
      "outputs": []
    }
  ]
}