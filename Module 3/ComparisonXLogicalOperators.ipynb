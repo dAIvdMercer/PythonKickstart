{
  "nbformat": 4,
  "nbformat_minor": 0,
  "metadata": {
    "colab": {
      "provenance": [],
      "authorship_tag": "ABX9TyN/eGuxHYeQOZYNtLLiHarG",
      "include_colab_link": true
    },
    "kernelspec": {
      "name": "python3",
      "display_name": "Python 3"
    },
    "language_info": {
      "name": "python"
    }
  },
  "cells": [
    {
      "cell_type": "markdown",
      "metadata": {
        "id": "view-in-github",
        "colab_type": "text"
      },
      "source": [
        "<a href=\"https://colab.research.google.com/github/dAIvdMercer/PythonKickstart/blob/main/Module%203/ComparisonXLogicalOperators.ipynb\" target=\"_parent\"><img src=\"https://colab.research.google.com/assets/colab-badge.svg\" alt=\"Open In Colab\"/></a>"
      ]
    },
    {
      "cell_type": "markdown",
      "source": [
        "# Work with Comparison and Logical Operators\n",
        "Let's consider a scenario where we want to determine if a student qualifies for admission to a university based on their exam scores:\n",
        "\n",
        "**Step 1:** Enter the exam scores of the student:\n",
        "math_score:85,\n",
        "science_score:75,\n",
        "english_score:90\n",
        "\n",
        "**Step 2:** Alongside, set the passing marks for each subject:\n",
        "math_passing_marks:70,\n",
        "science_passing_marks:65,\n",
        "english_passing_marks:80\n",
        "\n",
        "**Step 3:** Run the code."
      ],
      "metadata": {
        "id": "3jYrcWSZ9lfx"
      }
    },
    {
      "cell_type": "code",
      "execution_count": null,
      "metadata": {
        "id": "uYps9uxV9bOA"
      },
      "outputs": [],
      "source": []
    },
    {
      "cell_type": "markdown",
      "source": [
        "**Step 4:** To check if the student qualifies, use comparison operators and logical operators to define a condition in the below code cell.\n",
        "\n",
        "**Step 5:** To display the result, write a print statement.\n",
        "\n",
        "**Step 6:** Run the code to check if the results are correct. (*Hint: For the given scores, the result should be true*)"
      ],
      "metadata": {
        "id": "QWQuEoWQB59t"
      }
    },
    {
      "cell_type": "code",
      "source": [
        "# Check if the student qualifies for admission"
      ],
      "metadata": {
        "id": "o05p5xAf9rbf"
      },
      "execution_count": null,
      "outputs": []
    }
  ]
}