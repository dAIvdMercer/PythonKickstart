{
  "nbformat": 4,
  "nbformat_minor": 0,
  "metadata": {
    "colab": {
      "provenance": [],
      "include_colab_link": true
    },
    "kernelspec": {
      "name": "python3",
      "display_name": "Python 3"
    },
    "language_info": {
      "name": "python"
    }
  },
  "cells": [
    {
      "cell_type": "markdown",
      "metadata": {
        "id": "view-in-github",
        "colab_type": "text"
      },
      "source": [
        "<a href=\"https://colab.research.google.com/github/dAIvdMercer/PythonKickstart/blob/main/Module%203/DataTypes.ipynb\" target=\"_parent\"><img src=\"https://colab.research.google.com/assets/colab-badge.svg\" alt=\"Open In Colab\"/></a>"
      ]
    },
    {
      "cell_type": "markdown",
      "source": [
        "# Work with Type Casting, Slicing & Concatenation\n",
        "The code below sets a quantity of books and their price. It calculates the total revenue based on those two parameters.\n",
        "\n",
        "**Step 1.** Run the code (*You will get a TypeError.*)\n"
      ],
      "metadata": {
        "id": "LHfp6xjiXHEJ"
      }
    },
    {
      "cell_type": "code",
      "source": [
        "price = \"$29.99\"\n",
        "quantity = \"100\"\n",
        "\n",
        "# Calculate total revenue\n",
        "total_revenue = price * quantity\n",
        "print(\"Total revenue:\", total_revenue)"
      ],
      "metadata": {
        "id": "cDrW2KZbMzTh"
      },
      "execution_count": null,
      "outputs": []
    },
    {
      "cell_type": "markdown",
      "source": [
        "**Step 2.** You will need to ensure that the information is in numeric data type to enable calculations. Fix the errrors using type casting and slicing and print the result in the above code cell."
      ],
      "metadata": {
        "id": "zFv819RYV_VI"
      }
    },
    {
      "cell_type": "markdown",
      "source": [
        "Next, we display the quantity of books in a user-friendly message.\n",
        "\n",
        "**Step 3.** Run the code (*You will get multiple errors here.*)"
      ],
      "metadata": {
        "id": "SbiNpeUtbi29"
      }
    },
    {
      "cell_type": "code",
      "source": [
        "message = 'We've' + quantity + 'copies of the book available.'\n",
        "print(message)"
      ],
      "metadata": {
        "id": "FMSklKjK-Hv0"
      },
      "execution_count": null,
      "outputs": []
    },
    {
      "cell_type": "markdown",
      "source": [
        "**Step 4.** Fix the errors to display the message correctly (*Hint: You'll need to espace some quotes and think about type casting*)"
      ],
      "metadata": {
        "id": "Tv7bQ0Fh_rkr"
      }
    }
  ]
}