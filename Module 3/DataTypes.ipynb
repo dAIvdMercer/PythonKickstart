{
  "nbformat": 4,
  "nbformat_minor": 0,
  "metadata": {
    "colab": {
      "provenance": [],
      "authorship_tag": "ABX9TyO4egD5621K1/CxhzsvUgsl",
      "include_colab_link": true
    },
    "kernelspec": {
      "name": "python3",
      "display_name": "Python 3"
    },
    "language_info": {
      "name": "python"
    }
  },
  "cells": [
    {
      "cell_type": "markdown",
      "metadata": {
        "id": "view-in-github",
        "colab_type": "text"
      },
      "source": [
        "<a href=\"https://colab.research.google.com/github/dAIvdMercer/PythonKickstart/blob/main/Module%203/DataTypes.ipynb\" target=\"_parent\"><img src=\"https://colab.research.google.com/assets/colab-badge.svg\" alt=\"Open In Colab\"/></a>"
      ]
    },
    {
      "cell_type": "markdown",
      "source": [
        "#Determining Data Types\n",
        "Let's identify the various data types entered in the below provided information about a book.\n",
        "\n",
        "**Step 1.** In the provided print statement, change the value inside the type bracket with information such as Title, Quantity, etc. and run the cell to identify their corresponding data types.\n",
        "\n",
        "*An example is shown below.*\n",
        "\n",
        "\n",
        "\n"
      ],
      "metadata": {
        "id": "TYn8ZOiKByOr"
      }
    },
    {
      "cell_type": "code",
      "source": [
        "Title = \"Python Programming\"\n",
        "Author = \"John Doe\"\n",
        "ISBN = 9.781e9\n",
        "Price = \"$29.99\"\n",
        "Quantity = \"100\"\n",
        "\n",
        "print (type(Price))"
      ],
      "metadata": {
        "colab": {
          "base_uri": "https://localhost:8080/"
        },
        "id": "OlxzqPnF-Uj0",
        "outputId": "f86af2b1-a094-4c97-9f74-c779df6ba56b"
      },
      "execution_count": 10,
      "outputs": [
        {
          "output_type": "stream",
          "name": "stdout",
          "text": [
            "<class 'str'>\n"
          ]
        }
      ]
    },
    {
      "cell_type": "markdown",
      "source": [
        "# Converting Numeric Strings to Numbers\n",
        "If you want to calculate the total revenue generated from selling the specified quantity of books at the given price, you need to ensure that the information is in numeric data type to enable calculations."
      ],
      "metadata": {
        "id": "LHfp6xjiXHEJ"
      }
    },
    {
      "cell_type": "code",
      "source": [
        "price = \"$29.99\"\n",
        "quantity = \"100\"\n",
        "\n",
        "# Convert price to a float by removing the dollar sign\n",
        "price = float(price[1:])  # $29.99 -> 29.99\n",
        "\n",
        "# Convert quantity to an integer\n",
        "quantity = int(quantity)\n",
        "\n",
        "# Calculate total revenue\n",
        "total_revenue = price * quantity\n",
        "print(\"Total revenue:\", total_revenue)\n"
      ],
      "metadata": {
        "colab": {
          "base_uri": "https://localhost:8080/"
        },
        "id": "hJcen9h29uzu",
        "outputId": "90794fce-b4be-428d-b8a6-e8b4154248d0"
      },
      "execution_count": 11,
      "outputs": [
        {
          "output_type": "stream",
          "name": "stdout",
          "text": [
            "Total revenue: 2999.0\n"
          ]
        }
      ]
    },
    {
      "cell_type": "markdown",
      "source": [
        "#Type Casting\n",
        "You'll often need to convert between different data types. For example, you might want to convert the quantity to a string so that you can concatenate it with other strings for display purposes. Here, you want to display the quantity of books in a user-friendly message."
      ],
      "metadata": {
        "id": "SbiNpeUtbi29"
      }
    },
    {
      "cell_type": "code",
      "source": [
        "quantity_str = str(quantity)\n",
        "message = \"We have \" + quantity_str + \" copies of the book available.\"\n",
        "print(message)"
      ],
      "metadata": {
        "colab": {
          "base_uri": "https://localhost:8080/"
        },
        "id": "FMSklKjK-Hv0",
        "outputId": "0ed18f19-2311-4b62-fe91-ae5059411ade"
      },
      "execution_count": 12,
      "outputs": [
        {
          "output_type": "stream",
          "name": "stdout",
          "text": [
            "We have 100 copies of the book available.\n"
          ]
        }
      ]
    },
    {
      "cell_type": "markdown",
      "source": [
        "In this scenario, you've encountered various Python data types such as strings, integers, and floats. You've also learned how to determine the types of data inputs, handle numeric data, and perform type casting when necessary. Understanding these concepts is crucial for building robust and efficient applications in Python."
      ],
      "metadata": {
        "id": "FiwN4lWpb0ho"
      }
    }
  ]
}