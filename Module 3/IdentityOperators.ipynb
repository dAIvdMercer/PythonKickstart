{
  "nbformat": 4,
  "nbformat_minor": 0,
  "metadata": {
    "colab": {
      "provenance": [],
      "authorship_tag": "ABX9TyO6Q6jOTJoSOI22QzGEc1FU",
      "include_colab_link": true
    },
    "kernelspec": {
      "name": "python3",
      "display_name": "Python 3"
    },
    "language_info": {
      "name": "python"
    }
  },
  "cells": [
    {
      "cell_type": "markdown",
      "metadata": {
        "id": "view-in-github",
        "colab_type": "text"
      },
      "source": [
        "<a href=\"https://colab.research.google.com/github/dAIvdMercer/PythonKickstart/blob/main/Module%203/IdentityOperators.ipynb\" target=\"_parent\"><img src=\"https://colab.research.google.com/assets/colab-badge.svg\" alt=\"Open In Colab\"/></a>"
      ]
    },
    {
      "cell_type": "markdown",
      "source": [
        "Imagine a busy cafe, \"Java Lava Cafe,\" during the morning rush. Two baristas, Jake and Eliza, are handling a large order for a nearby office.\n",
        "They have a tray of coffee cups, each assigned to different employees based on their specific orders.\n",
        "\n",
        "Jake prepares a coffee cup for a customer named Tom. He places it on the tray.\n",
        "Eliza, unaware that Jake has already prepared Tom's coffee, also prepares a cup for Tom.\n",
        "\n",
        "**Step 1:** Run the code cell below to initialize the variables (cups)."
      ],
      "metadata": {
        "id": "QNYLwX6RK6UW"
      }
    },
    {
      "cell_type": "code",
      "source": [
        "cup_from_jake = \"Coffee for Tom\"\n",
        "cup_from_eliza = \"Coffee for Tom\""
      ],
      "metadata": {
        "id": "UvWKYR9vLd5A"
      },
      "execution_count": 1,
      "outputs": []
    },
    {
      "cell_type": "markdown",
      "source": [
        "Before adding Eliza's cup to the tray, Jake checks to see if the cup Eliza prepared is the same as the one he made for Tom.\n",
        "\n",
        "He uses the identity operator is to check if both variables (cups) point to the same object in memory.\n",
        "\n",
        "**Step 2:** Write the code using identity operator and print the result.\n",
        "*Hint: The result should be False.*"
      ],
      "metadata": {
        "id": "oTz96xqx1db8"
      }
    },
    {
      "cell_type": "code",
      "source": [
        "# Jake checks if both cups are actually the same\n"
      ],
      "metadata": {
        "id": "72EpR65udYuU"
      },
      "execution_count": null,
      "outputs": []
    },
    {
      "cell_type": "markdown",
      "source": [
        "He realizes that they are two separate cups prepared for the same order.\n",
        "Realizing the mix-up, Eliza decides not to add her cup to the tray, thus avoiding giving Tom two cups.\n",
        "\n",
        "To ensure the correct cup goes to Tom, Jake labels the cup he prepared with a marker and adds it to the delivery tray.\n",
        "They use the identity operator again to make sure the labeled cup is the one that goes on the tray.\n",
        "\n",
        "**Step 3:** Write the code using identity operator and print the result.\n",
        "*Hint: The result should be True.*"
      ],
      "metadata": {
        "id": "I_MJeGT-1ffO"
      }
    },
    {
      "cell_type": "code",
      "source": [
        "labeled_cup = cup_from_jake\n",
        "# Verifying it's the right cup using identity operator\n"
      ],
      "metadata": {
        "id": "xc_SLFPeejEg"
      },
      "execution_count": null,
      "outputs": []
    }
  ]
}