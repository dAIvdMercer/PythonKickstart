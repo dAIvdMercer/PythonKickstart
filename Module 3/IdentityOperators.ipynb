{
  "nbformat": 4,
  "nbformat_minor": 0,
  "metadata": {
    "colab": {
      "provenance": [],
      "include_colab_link": true
    },
    "kernelspec": {
      "name": "python3",
      "display_name": "Python 3"
    },
    "language_info": {
      "name": "python"
    }
  },
  "cells": [
    {
      "cell_type": "markdown",
      "metadata": {
        "id": "view-in-github",
        "colab_type": "text"
      },
      "source": [
        "<a href=\"https://colab.research.google.com/github/dAIvdMercer/PythonKickstart/blob/main/Module%203/IdentityOperators.ipynb\" target=\"_parent\"><img src=\"https://colab.research.google.com/assets/colab-badge.svg\" alt=\"Open In Colab\"/></a>"
      ]
    },
    {
      "cell_type": "code",
      "execution_count": null,
      "metadata": {
        "id": "T4F_YDjzbZX_"
      },
      "outputs": [],
      "source": [
        "x = [1, 2, 3]\n",
        "y = x\n",
        "z = [1, 2, 3]\n",
        "\n",
        "print(x is y)        # True, x and y refer to the same object\n",
        "print(x is z)        # False, x and z are different objects with the same content\n",
        "print(x is not z)    # True, since x and z are not the same object"
      ]
    }
  ]
}
