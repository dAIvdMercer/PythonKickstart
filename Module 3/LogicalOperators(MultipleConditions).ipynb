{
  "nbformat": 4,
  "nbformat_minor": 0,
  "metadata": {
    "colab": {
      "provenance": [],
      "authorship_tag": "ABX9TyNzvrQsr1HKb2eRt2yBy8Cc",
      "include_colab_link": true
    },
    "kernelspec": {
      "name": "python3",
      "display_name": "Python 3"
    },
    "language_info": {
      "name": "python"
    }
  },
  "cells": [
    {
      "cell_type": "markdown",
      "metadata": {
        "id": "view-in-github",
        "colab_type": "text"
      },
      "source": [
        "<a href=\"https://colab.research.google.com/github/dAIvdMercer/PythonKickstart/blob/main/Module%203/LogicalOperators(MultipleConditions).ipynb\" target=\"_parent\"><img src=\"https://colab.research.google.com/assets/colab-badge.svg\" alt=\"Open In Colab\"/></a>"
      ]
    },
    {
      "cell_type": "markdown",
      "source": [
        "# Adding Multiple Conditions with Logical Operators\n",
        "Write a series of expressions to determine if a customer qualifies for a special offer. The criteria should be that the order must either be greater than $50 or the customer must be part of the loyalty program. Special offers only apply when customers are not using a gift card.\n",
        "\n",
        "**Step 1:** We have defined variables to represent the customer's order details. Run the cell."
      ],
      "metadata": {
        "id": "fxJaWD2XMr9z"
      }
    },
    {
      "cell_type": "code",
      "execution_count": null,
      "metadata": {
        "id": "35_SBCxw1TTB"
      },
      "outputs": [],
      "source": [
        "# Customer order details\n",
        "order_amount = 45\n",
        "is_loyalty_member = True\n",
        "uses_gift_card = False"
      ]
    },
    {
      "cell_type": "markdown",
      "source": [
        "**Step 2:** In the below given code cell, define the following conditions using logical operators [*either as a single statement containing both conditions or as separate statements for the 2 conditions*]:\n",
        "\n",
        "Condition 1: Check if the order amount is greater than $50 or if the customer is a loyalty member.\n",
        "\n",
        "Condition 2: Ensure that the customer is not using a gift card.\n",
        "\n",
        "**Step 3:** Add a print statement to check the results.\n",
        "\n",
        "*Hint: The result should be True in this case.*"
      ],
      "metadata": {
        "id": "hGQ5f98POXlO"
      }
    },
    {
      "cell_type": "code",
      "source": [
        "## Check if the order qualifies for the special offer\n",
        "# Condition 1: Order is more than $50 or the customer is a loyalty member\n",
        "# Condition 2: Customer does not use a gift card\n",
        "\n",
        "# Output the result\n"
      ],
      "metadata": {
        "id": "he3OluljdiZw"
      },
      "execution_count": null,
      "outputs": []
    }
  ]
}