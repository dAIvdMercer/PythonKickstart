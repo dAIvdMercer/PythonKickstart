{
  "nbformat": 4,
  "nbformat_minor": 0,
  "metadata": {
    "colab": {
      "provenance": [],
      "authorship_tag": "ABX9TyNFMVwj/qSVWqs4AroaXLQL",
      "include_colab_link": true
    },
    "kernelspec": {
      "name": "python3",
      "display_name": "Python 3"
    },
    "language_info": {
      "name": "python"
    }
  },
  "cells": [
    {
      "cell_type": "markdown",
      "metadata": {
        "id": "view-in-github",
        "colab_type": "text"
      },
      "source": [
        "<a href=\"https://colab.research.google.com/github/dAIvdMercer/PythonKickstart/blob/main/Module%203/MembershipOperators.ipynb\" target=\"_parent\"><img src=\"https://colab.research.google.com/assets/colab-badge.svg\" alt=\"Open In Colab\"/></a>"
      ]
    },
    {
      "cell_type": "markdown",
      "source": [
        "# Work with Membership Operators\n",
        "Imagine you have a sandwich made with the following ingredients written out in a sentence:- \"The sandwich contains bread, ham, cheese, and tomato.\"\n",
        "\n",
        "Decide which ingredient you want to check if it's part of your sandwich. Let's say you want to check for \"cheese.\"\n",
        "\n",
        "**Step 1:** Run the cell below to initialize the variable."
      ],
      "metadata": {
        "id": "0hFO55SeIZDJ"
      }
    },
    {
      "cell_type": "code",
      "execution_count": null,
      "metadata": {
        "id": "ZAirXG9Z2BeN"
      },
      "outputs": [],
      "source": [
        "# Define the ingredients in the sandwich\n",
        "sandwich = \"The sandwich contains bread, ham, cheese, and tomato.\"\n",
        "\n",
        "# Ingredient to check\n",
        "ingredient_to_check = \"cheese\""
      ]
    },
    {
      "cell_type": "markdown",
      "source": [
        "**Step 2:** To check if \"cheese\" is an ingredient in your sandwich, use membership operator to define a condition and print the results."
      ],
      "metadata": {
        "id": "8HFA4CgYDGl1"
      }
    },
    {
      "cell_type": "code",
      "source": [
        "# Check if cheese is in the sandwich\n"
      ],
      "metadata": {
        "id": "Fpkeeo7QI9zD"
      },
      "execution_count": null,
      "outputs": []
    },
    {
      "cell_type": "markdown",
      "source": [
        "**Step 3:** To check if \"onion\" is an ingredient in your sandwich, use membership operator to define a condition and print the results."
      ],
      "metadata": {
        "id": "QOdHNmv7EA18"
      }
    },
    {
      "cell_type": "code",
      "source": [
        "ingredient_to_check = \"onion\"\n",
        "# Check if onion is in the sandwich\n"
      ],
      "metadata": {
        "id": "2g5UQ-hvE01B"
      },
      "execution_count": null,
      "outputs": []
    }
  ]
}