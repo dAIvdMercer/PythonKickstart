{
  "nbformat": 4,
  "nbformat_minor": 0,
  "metadata": {
    "colab": {
      "provenance": [],
      "authorship_tag": "ABX9TyPJRZpr4ePNlEF5pCF1YoQ2",
      "include_colab_link": true
    },
    "kernelspec": {
      "name": "python3",
      "display_name": "Python 3"
    },
    "language_info": {
      "name": "python"
    }
  },
  "cells": [
    {
      "cell_type": "markdown",
      "metadata": {
        "id": "view-in-github",
        "colab_type": "text"
      },
      "source": [
        "<a href=\"https://colab.research.google.com/github/dAIvdMercer/PythonKickstart/blob/main/Module%203/MembershipOperators.ipynb\" target=\"_parent\"><img src=\"https://colab.research.google.com/assets/colab-badge.svg\" alt=\"Open In Colab\"/></a>"
      ]
    },
    {
      "cell_type": "code",
      "execution_count": null,
      "metadata": {
        "id": "vAZWQLJUlLlp"
      },
      "outputs": [],
      "source": [
        "# Sample list\n",
        "my_list = [1, 2, 3, 4, 5]\n",
        "\n",
        "# Checking for membership\n",
        "print(3 in my_list)       # True, because 3 is in my_list\n",
        "print(6 not in my_list)   # True, because 6 is not in my_list"
      ]
    }
  ]
}