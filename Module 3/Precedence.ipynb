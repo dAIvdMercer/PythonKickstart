{
  "nbformat": 4,
  "nbformat_minor": 0,
  "metadata": {
    "colab": {
      "provenance": [],
      "authorship_tag": "ABX9TyOal7nsEg/tLfiD7si8cKAp",
      "include_colab_link": true
    },
    "kernelspec": {
      "name": "python3",
      "display_name": "Python 3"
    },
    "language_info": {
      "name": "python"
    }
  },
  "cells": [
    {
      "cell_type": "markdown",
      "metadata": {
        "id": "view-in-github",
        "colab_type": "text"
      },
      "source": [
        "<a href=\"https://colab.research.google.com/github/dAIvdMercer/PythonKickstart/blob/main/Module%203/Precedence.ipynb\" target=\"_parent\"><img src=\"https://colab.research.google.com/assets/colab-badge.svg\" alt=\"Open In Colab\"/></a>"
      ]
    },
    {
      "cell_type": "markdown",
      "source": [
        "##Understanding Precedence in Python\n",
        "Imagine you have a shopping cart with items, each with its own price and discount. You want to calculate the total cost of all items after applying the discounts."
      ],
      "metadata": {
        "id": "kS5SF_YCQkqg"
      }
    },
    {
      "cell_type": "markdown",
      "source": [
        "**Step 1.** Run the provided code.\n",
        "\n",
        "**Step 2.** Analyze the code and identify the issue.\n",
        "\n",
        "*Hint: The PEDMAS/BODMAS rule.*\n",
        "\n",
        "**Step 3.** Fix the code using parentheses.\n",
        "\n",
        "**Step 4.** Run the corrected code.\n",
        "\n",
        "*Total cost output should be $42.0.*"
      ],
      "metadata": {
        "id": "vfC6ZEMYR_c3"
      }
    },
    {
      "cell_type": "code",
      "execution_count": null,
      "metadata": {
        "id": "rx7WQyOkHf7q"
      },
      "outputs": [],
      "source": [
        "item1_price = 20\n",
        "item1_discount = 0.1  # 10% discount\n",
        "\n",
        "item2_price = 30\n",
        "item2_discount = 0.2  # 20% discount\n",
        "\n",
        "total_cost = item1_price * 1 - item1_discount + item2_price * 1 - item2_discount\n",
        "print(\"Total cost:\", total_cost)"
      ]
    }
  ]
}