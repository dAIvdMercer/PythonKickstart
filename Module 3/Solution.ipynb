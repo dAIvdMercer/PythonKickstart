{
  "nbformat": 4,
  "nbformat_minor": 0,
  "metadata": {
    "colab": {
      "provenance": [],
      "authorship_tag": "ABX9TyNckjlkgcLAy4sTfsthXwfP",
      "include_colab_link": true
    },
    "kernelspec": {
      "name": "python3",
      "display_name": "Python 3"
    },
    "language_info": {
      "name": "python"
    }
  },
  "cells": [
    {
      "cell_type": "markdown",
      "metadata": {
        "id": "view-in-github",
        "colab_type": "text"
      },
      "source": [
        "<a href=\"https://colab.research.google.com/github/dAIvdMercer/PythonKickstart/blob/main/Module%203/Solution.ipynb\" target=\"_parent\"><img src=\"https://colab.research.google.com/assets/colab-badge.svg\" alt=\"Open In Colab\"/></a>"
      ]
    },
    {
      "cell_type": "code",
      "execution_count": 1,
      "metadata": {
        "id": "qHjkTEFiL4a0"
      },
      "outputs": [],
      "source": [
        "# Initialize variables\n",
        "inventory_value = 1000\n",
        "expenses = 400\n",
        "cost_price_per_item = 2\n",
        "selling_price = 2.5"
      ]
    },
    {
      "cell_type": "code",
      "source": [
        "# Calculate number of items in inventory\n",
        "inventory = inventory_value // cost_price_per_item\n",
        "print(\"Items in inventory:\", inventory)"
      ],
      "metadata": {
        "colab": {
          "base_uri": "https://localhost:8080/"
        },
        "id": "vmgOi7p8Mevz",
        "outputId": "3e7b14fb-df96-4565-c35c-6bd991321557"
      },
      "execution_count": 2,
      "outputs": [
        {
          "output_type": "stream",
          "name": "stdout",
          "text": [
            "Items in inventory: 500\n"
          ]
        }
      ]
    },
    {
      "cell_type": "code",
      "source": [
        "# Calculate selling price after 10% discount\n",
        "selling_price *= 2\n",
        "discount = 0.1\n",
        "selling_price -= selling_price * discount\n",
        "print(\"Selling price after discount: $\", selling_price)"
      ],
      "metadata": {
        "colab": {
          "base_uri": "https://localhost:8080/"
        },
        "id": "HgZ0LiAOMd86",
        "outputId": "301c19b5-a6ae-475a-e86c-8268d9712349"
      },
      "execution_count": 3,
      "outputs": [
        {
          "output_type": "stream",
          "name": "stdout",
          "text": [
            "Selling price after discount: $ 4.5\n"
          ]
        }
      ]
    },
    {
      "cell_type": "code",
      "source": [
        "# Calculate total sales\n",
        "sales = selling_price * inventory\n",
        "print(\"Total sales value: $\", sales)"
      ],
      "metadata": {
        "colab": {
          "base_uri": "https://localhost:8080/"
        },
        "id": "KYuxG__9MnQv",
        "outputId": "5766d7f0-b472-4d3c-a3a7-36eea3ab393c"
      },
      "execution_count": 4,
      "outputs": [
        {
          "output_type": "stream",
          "name": "stdout",
          "text": [
            "Total sales value: $ 2250.0\n"
          ]
        }
      ]
    },
    {
      "cell_type": "code",
      "source": [
        "# Calcualte profit\n",
        "profit = sales - expenses - inventory_value\n",
        "print(\"Profit earned: $\", profit)"
      ],
      "metadata": {
        "colab": {
          "base_uri": "https://localhost:8080/"
        },
        "id": "ipOH46pQMrbz",
        "outputId": "ff343dd9-6981-4782-ca6b-65f7d55847bb"
      },
      "execution_count": 5,
      "outputs": [
        {
          "output_type": "stream",
          "name": "stdout",
          "text": [
            "Profit earned: $ 850.0\n"
          ]
        }
      ]
    }
  ]
}