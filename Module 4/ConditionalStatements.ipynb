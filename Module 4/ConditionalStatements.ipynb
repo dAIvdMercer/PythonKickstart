{
  "nbformat": 4,
  "nbformat_minor": 0,
  "metadata": {
    "colab": {
      "provenance": [],
      "include_colab_link": true
    },
    "kernelspec": {
      "name": "python3",
      "display_name": "Python 3"
    },
    "language_info": {
      "name": "python"
    }
  },
  "cells": [
    {
      "cell_type": "markdown",
      "metadata": {
        "id": "view-in-github",
        "colab_type": "text"
      },
      "source": [
        "<a href=\"https://colab.research.google.com/github/dAIvdMercer/PythonKickstart/blob/main/Module%204/ConditionalStatements.ipynb\" target=\"_parent\"><img src=\"https://colab.research.google.com/assets/colab-badge.svg\" alt=\"Open In Colab\"/></a>"
      ]
    },
    {
      "cell_type": "markdown",
      "source": [
        "# **Conditional Statements**\n",
        "\n",
        "\n",
        "Write a control structure that checks to see if a customer qualifies for a discount using the following information:\n",
        "\n",
        "*   Senior Discount - 65 or older\n",
        "*   Junior Discount - younger than 18\n",
        "*   Cheap Tuesday Discount - Only for adults (18-65) on Tuesdays\n",
        "\n",
        "*Hint: We've started the code for you, you need to do the rest.*\n"
      ],
      "metadata": {
        "id": "_tfXK8KE8200"
      }
    },
    {
      "cell_type": "code",
      "execution_count": null,
      "metadata": {
        "id": "Q40fb9GGPUeH"
      },
      "outputs": [],
      "source": [
        "age = 40\n",
        "day_of_week = 2\n"
      ]
    }
  ]
}