{
  "nbformat": 4,
  "nbformat_minor": 0,
  "metadata": {
    "colab": {
      "provenance": [],
      "authorship_tag": "ABX9TyNHB1H8jId5E23KAfCbKS8F",
      "include_colab_link": true
    },
    "kernelspec": {
      "name": "python3",
      "display_name": "Python 3"
    },
    "language_info": {
      "name": "python"
    }
  },
  "cells": [
    {
      "cell_type": "markdown",
      "metadata": {
        "id": "view-in-github",
        "colab_type": "text"
      },
      "source": [
        "<a href=\"https://colab.research.google.com/github/dAIvdMercer/PythonKickstart/blob/main/Module%204/ConditionalStatementsSolution.ipynb\" target=\"_parent\"><img src=\"https://colab.research.google.com/assets/colab-badge.svg\" alt=\"Open In Colab\"/></a>"
      ]
    },
    {
      "cell_type": "code",
      "execution_count": null,
      "metadata": {
        "id": "xEbLX_VN-7fc"
      },
      "outputs": [],
      "source": [
        "age = 40          # Example age\n",
        "day_of_week = 2   # Numerical representation of the day, where 2 corresponds to Tuesday\n",
        "\n",
        "# Check if it's Tuesday and the customer is an adult\n",
        "if day_of_week == 2 and 18 <= age < 65:\n",
        "    print(\"Eligible for Cheap Tuesday discount.\")\n",
        "# Check for senior discount\n",
        "elif age >= 65:\n",
        "    print(\"Eligible for senior discount.\")\n",
        "# Check for junior discount\n",
        "elif age < 18:\n",
        "    print(\"Eligible for junior discount.\")\n",
        "# If none of the above conditions are met\n",
        "else:\n",
        "    print(\"Regular ticket pricing applies.\")"
      ]
    }
  ]
}