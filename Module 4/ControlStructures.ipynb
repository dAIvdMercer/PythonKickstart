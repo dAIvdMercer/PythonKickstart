{
  "nbformat": 4,
  "nbformat_minor": 0,
  "metadata": {
    "colab": {
      "provenance": [],
      "authorship_tag": "ABX9TyP/ZfywJAk/uIibBeduA6qX",
      "include_colab_link": true
    },
    "kernelspec": {
      "name": "python3",
      "display_name": "Python 3"
    },
    "language_info": {
      "name": "python"
    }
  },
  "cells": [
    {
      "cell_type": "markdown",
      "metadata": {
        "id": "view-in-github",
        "colab_type": "text"
      },
      "source": [
        "<a href=\"https://colab.research.google.com/github/dAIvdMercer/PythonKickstart/blob/main/Module%204/ControlStructures.ipynb\" target=\"_parent\"><img src=\"https://colab.research.google.com/assets/colab-badge.svg\" alt=\"Open In Colab\"/></a>"
      ]
    },
    {
      "cell_type": "markdown",
      "source": [
        "# **Control Structures**\n",
        "You have a greenhouse where plants are sensitive to temperature fluctuations. The temperature needs to be maintained within a certain range to ensure the plants' optimal growth. The system periodically checks the current temperature and decides whether to heat up or cool down the greenhouse or do nothing if the temperature is already optimal.\n",
        "\n",
        "*   **Step 1**: Set up the target temperature and range of tolerance (*e.g.  75F with a tolerance of 3F*).\n",
        "*   **Step 2**: Choose a current temperature that is close to the target temperature (*e.g. 74F*).\n",
        "*   **Step 3**: Use a for loop to simulate the system over a period of time (*e.g. 10 hours*)\n",
        "*   **Step 4**: Use control statements to decide whether to heat, cool, or maintain the current temperature.\n",
        "*   **Step 5**: Add an additional control statement to simulate a fixed pattern of temperature change.\n",
        "\n",
        "\n",
        "\n",
        "\n",
        "\n"
      ],
      "metadata": {
        "id": "Ft6ywoKFbxnV"
      }
    },
    {
      "cell_type": "code",
      "execution_count": null,
      "metadata": {
        "id": "5NXsFi66aNp9"
      },
      "outputs": [],
      "source": []
    }
  ]
}