{
  "nbformat": 4,
  "nbformat_minor": 0,
  "metadata": {
    "colab": {
      "provenance": [],
      "authorship_tag": "ABX9TyMFh2krc1ivfSe5rputZeG2",
      "include_colab_link": true
    },
    "kernelspec": {
      "name": "python3",
      "display_name": "Python 3"
    },
    "language_info": {
      "name": "python"
    }
  },
  "cells": [
    {
      "cell_type": "markdown",
      "metadata": {
        "id": "view-in-github",
        "colab_type": "text"
      },
      "source": [
        "<a href=\"https://colab.research.google.com/github/dAIvdMercer/PythonKickstart/blob/main/Module%204/ControlStructuresSolution.ipynb\" target=\"_parent\"><img src=\"https://colab.research.google.com/assets/colab-badge.svg\" alt=\"Open In Colab\"/></a>"
      ]
    },
    {
      "cell_type": "code",
      "execution_count": null,
      "metadata": {
        "id": "5NXsFi66aNp9"
      },
      "outputs": [],
      "source": [
        "# Setting the target temperature and the range\n",
        "target_temperature = 75  # target temperature in degrees Fahrenheit\n",
        "tolerance = 3            # acceptable tolerance in degrees Fahrenheit\n",
        "\n",
        "# Simulate the current temperature around the target temperature initially\n",
        "current_temperature = 74\n",
        "\n",
        "# Simulation over 10 hours\n",
        "for hour in range(1, 11):\n",
        "    print(\"Hour\", hour, \": Current Temperature =\", current_temperature, \"degrees Fahrenheit\")\n",
        "\n",
        "    # Conditional checks to adjust the temperature\n",
        "    if current_temperature < target_temperature - tolerance:\n",
        "        print(\"Heating up...\")\n",
        "        current_temperature += 2  # simulate heating\n",
        "    elif current_temperature > target_temperature + tolerance:\n",
        "        print(\"Cooling down...\")\n",
        "        current_temperature -= 2  # simulate cooling\n",
        "    else:\n",
        "        print(\"Temperature is optimal. No adjustment needed.\")\n",
        "\n",
        "    # Simulate a fixed pattern of temperature change instead of using a list\n",
        "    if hour % 2 == 0:\n",
        "        current_temperature -= 1  # Decrease temperature on even hours\n",
        "    else:\n",
        "        current_temperature += 1  # Increase temperature on odd hours"
      ]
    }
  ]
}