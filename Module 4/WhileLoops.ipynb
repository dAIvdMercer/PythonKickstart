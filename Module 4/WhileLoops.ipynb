{
  "nbformat": 4,
  "nbformat_minor": 0,
  "metadata": {
    "colab": {
      "provenance": [],
      "authorship_tag": "ABX9TyOw+1lYrlnb6LQ6M+D+mvI5",
      "include_colab_link": true
    },
    "kernelspec": {
      "name": "python3",
      "display_name": "Python 3"
    },
    "language_info": {
      "name": "python"
    }
  },
  "cells": [
    {
      "cell_type": "markdown",
      "metadata": {
        "id": "view-in-github",
        "colab_type": "text"
      },
      "source": [
        "<a href=\"https://colab.research.google.com/github/dAIvdMercer/PythonKickstart/blob/main/WhileLoops.ipynb\" target=\"_parent\"><img src=\"https://colab.research.google.com/assets/colab-badge.svg\" alt=\"Open In Colab\"/></a>"
      ]
    },
    {
      "cell_type": "code",
      "execution_count": null,
      "metadata": {
        "id": "xUr8VUxfSv_U"
      },
      "outputs": [],
      "source": [
        "count = 0\n",
        "\n",
        "while count < 5:\n",
        "    count += 1\n",
        "    if count == 2:\n",
        "        pass  # Does nothing, acts as a placeholder\n",
        "    if count == 3:\n",
        "        continue  # Skips the rest of the loop when count is 3\n",
        "    if count == 4:\n",
        "        break  # Exits the loop when count reaches 4\n",
        "    print(count)"
      ]
    }
  ]
}
