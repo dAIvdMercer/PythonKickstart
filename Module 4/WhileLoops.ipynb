{
  "nbformat": 4,
  "nbformat_minor": 0,
  "metadata": {
    "colab": {
      "provenance": [],
      "include_colab_link": true
    },
    "kernelspec": {
      "name": "python3",
      "display_name": "Python 3"
    },
    "language_info": {
      "name": "python"
    }
  },
  "cells": [
    {
      "cell_type": "markdown",
      "metadata": {
        "id": "view-in-github",
        "colab_type": "text"
      },
      "source": [
        "<a href=\"https://colab.research.google.com/github/dAIvdMercer/PythonKickstart/blob/main/Module%204/WhileLoops.ipynb\" target=\"_parent\"><img src=\"https://colab.research.google.com/assets/colab-badge.svg\" alt=\"Open In Colab\"/></a>"
      ]
    },
    {
      "cell_type": "code",
      "execution_count": 2,
      "metadata": {
        "id": "xUr8VUxfSv_U",
        "outputId": "092b3d85-e98c-4412-a9d2-87d6ac6580ab",
        "colab": {
          "base_uri": "https://localhost:8080/"
        }
      },
      "outputs": [
        {
          "output_type": "stream",
          "name": "stdout",
          "text": [
            "Countdown: 10 seconds remaining\n",
            "Countdown: 9 seconds remaining\n",
            "Countdown: 8 seconds remaining\n",
            "Countdown: 7 seconds remaining\n",
            "Countdown: 6 seconds remaining\n",
            "Countdown: 5 seconds remaining\n",
            "Countdown: 4 seconds remaining\n",
            "Countdown: 3 seconds remaining\n",
            "Countdown: 2 seconds remaining\n",
            "Countdown: 1 seconds remaining\n",
            "Countdown complete!\n"
          ]
        }
      ],
      "source": [
        "# Initial countdown time in seconds\n",
        "seconds = 10\n",
        "\n",
        "# Using a while loop to count down from 10 to 0\n",
        "while seconds > 0:\n",
        "    print(\"Countdown: \" + str(seconds) + \" seconds remaining\")\n",
        "    seconds -= 1  # Decrement the counter by 1\n",
        "\n",
        "# When the loop exits because seconds is no longer greater than 0\n",
        "print(\"Countdown complete!\")"
      ]
    }
  ]
}