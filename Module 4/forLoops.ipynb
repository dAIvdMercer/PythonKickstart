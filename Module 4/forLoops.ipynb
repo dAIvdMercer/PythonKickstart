{
  "nbformat": 4,
  "nbformat_minor": 0,
  "metadata": {
    "colab": {
      "provenance": [],
      "authorship_tag": "ABX9TyMpEGMHbCnhXXnXUxLmyCGx",
      "include_colab_link": true
    },
    "kernelspec": {
      "name": "python3",
      "display_name": "Python 3"
    },
    "language_info": {
      "name": "python"
    }
  },
  "cells": [
    {
      "cell_type": "markdown",
      "metadata": {
        "id": "view-in-github",
        "colab_type": "text"
      },
      "source": [
        "<a href=\"https://colab.research.google.com/github/dAIvdMercer/PythonKickstart/blob/main/Module%204/forLoops.ipynb\" target=\"_parent\"><img src=\"https://colab.research.google.com/assets/colab-badge.svg\" alt=\"Open In Colab\"/></a>"
      ]
    },
    {
      "cell_type": "markdown",
      "source": [
        "# **for Loops**\n",
        "Generate a multiplication table up to a specified number.\n",
        "\n",
        "\n",
        "*   Step 1: Create an outer loop to iterate over a range of numbers (*e.g. 1 - 3*)\n",
        "*   Step 2: Create an inner loop to iterate over another range for the multipliers (*e.g. 1 - 10*)\n",
        "*   Step 3: Inside the inner loop, use a control statement to check if the number is even. If it is even, skip that multiplier statement.\n",
        "* Step 4: Determine the result and print them"
      ],
      "metadata": {
        "id": "xFQdkrNZBN66"
      }
    },
    {
      "cell_type": "code",
      "execution_count": null,
      "metadata": {
        "id": "thoIxVPt_8O-"
      },
      "outputs": [],
      "source": []
    }
  ]
}