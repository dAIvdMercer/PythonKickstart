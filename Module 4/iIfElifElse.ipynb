{
  "nbformat": 4,
  "nbformat_minor": 0,
  "metadata": {
    "colab": {
      "provenance": [],
      "authorship_tag": "ABX9TyOEgHOyy6nm6M/T5jpMv2LM",
      "include_colab_link": true
    },
    "kernelspec": {
      "name": "python3",
      "display_name": "Python 3"
    },
    "language_info": {
      "name": "python"
    }
  },
  "cells": [
    {
      "cell_type": "markdown",
      "metadata": {
        "id": "view-in-github",
        "colab_type": "text"
      },
      "source": [
        "<a href=\"https://colab.research.google.com/github/dAIvdMercer/PythonKickstart/blob/main/iIfElifElse.ipynb\" target=\"_parent\"><img src=\"https://colab.research.google.com/assets/colab-badge.svg\" alt=\"Open In Colab\"/></a>"
      ]
    },
    {
      "cell_type": "code",
      "execution_count": null,
      "metadata": {
        "id": "Q40fb9GGPUeH"
      },
      "outputs": [],
      "source": [
        "x = 10\n",
        "\n",
        "if x < 5:\n",
        "    print(\"x is less than 5\")\n",
        "elif x == 10:\n",
        "    print(\"x is equal to 10\")\n",
        "else:\n",
        "    print(\"x is greater than 5 and not equal to 10\")\n"
      ]
    }
  ]
}
