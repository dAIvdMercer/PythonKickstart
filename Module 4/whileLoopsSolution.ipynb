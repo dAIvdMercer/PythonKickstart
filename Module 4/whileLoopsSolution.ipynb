{
  "nbformat": 4,
  "nbformat_minor": 0,
  "metadata": {
    "colab": {
      "provenance": [],
      "authorship_tag": "ABX9TyMgNMxqyB0kz7EKG8Zoy6Qx",
      "include_colab_link": true
    },
    "kernelspec": {
      "name": "python3",
      "display_name": "Python 3"
    },
    "language_info": {
      "name": "python"
    }
  },
  "cells": [
    {
      "cell_type": "markdown",
      "metadata": {
        "id": "view-in-github",
        "colab_type": "text"
      },
      "source": [
        "<a href=\"https://colab.research.google.com/github/dAIvdMercer/PythonKickstart/blob/main/Module%204/whileLoopsSolution.ipynb\" target=\"_parent\"><img src=\"https://colab.research.google.com/assets/colab-badge.svg\" alt=\"Open In Colab\"/></a>"
      ]
    },
    {
      "cell_type": "markdown",
      "source": [
        "# **while Loops**\n",
        "Guess the number game.\n",
        "\n",
        "*   Step 1: Initialize the game by setting a secret number\n",
        "*   Step 2: Create your while loop that will prompt the user to enter a number until they guess the correct one.\n",
        "*   Step 3: Get the user to guess the number. *Hint remember the LBD from Module 2, Lesson 5?*\n",
        "*   Step 4: Compare user's guess to the secret number:\n",
        "*   4a: If the guess is too high, print a message telling the user it's too high.\n",
        "*   4b: If the guess is too low, print a message telling the user it's too low.\n",
        "*   4c: If the guess is correct, print a congratulatory message and break out of the loop.\n",
        "\n",
        "\n",
        "\n"
      ],
      "metadata": {
        "id": "xJ7uYxgLQqyR"
      }
    },
    {
      "cell_type": "code",
      "execution_count": null,
      "metadata": {
        "id": "aWtEDo2PQoCm"
      },
      "outputs": [],
      "source": [
        "# The predetermined number\n",
        "secret_number = 7\n",
        "\n",
        "# Start the while loop\n",
        "while True:\n",
        "    # Ask the user for a guess\n",
        "    guess = int(input(\"Enter your guess: \"))\n",
        "\n",
        "    # Compare the guess to the secret number\n",
        "    if guess < secret_number:\n",
        "        print(\"Too low, try again!\")\n",
        "    elif guess > secret_number:\n",
        "        print(\"Too high, try again!\")\n",
        "    else:\n",
        "        print(\"Congratulations! You guessed the right number!\")\n",
        "        break  # Exit the loop"
      ]
    }
  ]
}