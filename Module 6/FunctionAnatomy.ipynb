{
  "nbformat": 4,
  "nbformat_minor": 0,
  "metadata": {
    "colab": {
      "provenance": [],
      "authorship_tag": "ABX9TyNfFPnFmNFcDT8n7MRrz9Da",
      "include_colab_link": true
    },
    "kernelspec": {
      "name": "python3",
      "display_name": "Python 3"
    },
    "language_info": {
      "name": "python"
    }
  },
  "cells": [
    {
      "cell_type": "markdown",
      "metadata": {
        "id": "view-in-github",
        "colab_type": "text"
      },
      "source": [
        "<a href=\"https://colab.research.google.com/github/dAIvdMercer/PythonKickstart/blob/main/Module%206/FunctionAnatomy.ipynb\" target=\"_parent\"><img src=\"https://colab.research.google.com/assets/colab-badge.svg\" alt=\"Open In Colab\"/></a>"
      ]
    },
    {
      "cell_type": "code",
      "execution_count": null,
      "metadata": {
        "id": "XYJxXXQyXWsI"
      },
      "outputs": [],
      "source": [
        "def greet(person):\n",
        "    return f\"Hello, {person}!\"   #Can you guess what it does?\n",
        "\n",
        "#We can call it by name, while providing an argument (Alice):\n",
        "message = greet(\"Alice\")\n",
        "print(message)"
      ]
    }
  ]
}