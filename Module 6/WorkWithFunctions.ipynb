{
  "nbformat": 4,
  "nbformat_minor": 0,
  "metadata": {
    "colab": {
      "provenance": [],
      "authorship_tag": "ABX9TyO8eh2VXCYip1j9an5xfc0f",
      "include_colab_link": true
    },
    "kernelspec": {
      "name": "python3",
      "display_name": "Python 3"
    },
    "language_info": {
      "name": "python"
    }
  },
  "cells": [
    {
      "cell_type": "markdown",
      "metadata": {
        "id": "view-in-github",
        "colab_type": "text"
      },
      "source": [
        "<a href=\"https://colab.research.google.com/github/dAIvdMercer/PythonKickstart/blob/main/Module%206/WorkWithFunctions.ipynb\" target=\"_parent\"><img src=\"https://colab.research.google.com/assets/colab-badge.svg\" alt=\"Open In Colab\"/></a>"
      ]
    },
    {
      "cell_type": "markdown",
      "source": [
        "# **Working with Functions:**\n",
        "Create code that calculates the final price from sales price and tax rate of an item.\n",
        "*   **Step 1**: Use a lambda function to calculate the tax total.\n",
        "*   **Step 2**: Calculate the final price, using the result of the lambda function.\n",
        "\n"
      ],
      "metadata": {
        "id": "QhzD5RUW67y7"
      }
    },
    {
      "cell_type": "code",
      "execution_count": null,
      "metadata": {
        "id": "_HlXXazM62b1"
      },
      "outputs": [],
      "source": [
        "item_price = 100.00  # price of the item\n",
        "tax_rate = 0.07  # 7% sales tax"
      ]
    }
  ]
}