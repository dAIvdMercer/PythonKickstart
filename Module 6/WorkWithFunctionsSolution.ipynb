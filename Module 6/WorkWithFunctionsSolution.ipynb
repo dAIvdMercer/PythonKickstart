{
  "nbformat": 4,
  "nbformat_minor": 0,
  "metadata": {
    "colab": {
      "provenance": [],
      "authorship_tag": "ABX9TyOT8eRQbU4T8JB/B1UzFxoU",
      "include_colab_link": true
    },
    "kernelspec": {
      "name": "python3",
      "display_name": "Python 3"
    },
    "language_info": {
      "name": "python"
    }
  },
  "cells": [
    {
      "cell_type": "markdown",
      "metadata": {
        "id": "view-in-github",
        "colab_type": "text"
      },
      "source": [
        "<a href=\"https://colab.research.google.com/github/dAIvdMercer/PythonKickstart/blob/main/Module%206/WorkWithFunctionsSolution.ipynb\" target=\"_parent\"><img src=\"https://colab.research.google.com/assets/colab-badge.svg\" alt=\"Open In Colab\"/></a>"
      ]
    },
    {
      "cell_type": "markdown",
      "source": [
        "# **Working with Functions:**\n",
        "Create code that calculates the final price from sales price and tax rate of an item, using a lambda function as well as basic functions."
      ],
      "metadata": {
        "id": "1nMb2KL57IC6"
      }
    },
    {
      "cell_type": "code",
      "execution_count": null,
      "metadata": {
        "id": "X2JwghBhyIlX"
      },
      "outputs": [],
      "source": [
        "item_price = 100.00  # price of the item\n",
        "tax_rate = 0.07  # 7% sales tax\n",
        "\n",
        "calculate_tax = lambda price, tax_rate: price * tax_rate\n",
        "\n",
        "def total_price(price, tax_rate):\n",
        "    tax_amount = calculate_tax(price, tax_rate)\n",
        "    return price + tax_amount\n",
        "\n",
        "final_price = total_price(item_price, tax_rate)\n",
        "print(f\"The total price of the item, including tax, is ${final_price:.2f}\")"
      ]
    }
  ]
}