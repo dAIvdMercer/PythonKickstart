{
  "nbformat": 4,
  "nbformat_minor": 0,
  "metadata": {
    "colab": {
      "provenance": [],
      "authorship_tag": "ABX9TyN0cdmSy9tT3PhiO0sDGMip",
      "include_colab_link": true
    },
    "kernelspec": {
      "name": "python3",
      "display_name": "Python 3"
    },
    "language_info": {
      "name": "python"
    }
  },
  "cells": [
    {
      "cell_type": "markdown",
      "metadata": {
        "id": "view-in-github",
        "colab_type": "text"
      },
      "source": [
        "<a href=\"https://colab.research.google.com/github/dAIvdMercer/PythonKickstart/blob/main/Session%207/BuggyContactList.ipynb\" target=\"_parent\"><img src=\"https://colab.research.google.com/assets/colab-badge.svg\" alt=\"Open In Colab\"/></a>"
      ]
    },
    {
      "cell_type": "code",
      "execution_count": null,
      "metadata": {
        "id": "zAfRONZmjHzr"
      },
      "outputs": [],
      "source": [
        "# Function to create a new contact and save it to a file\n",
        "def create_contact(name, email, phone):\n",
        "    contact = f\"Name: {name}\\nEmail: {email}\\nPhone: {phone}\\n\"\n",
        "    with open(\"contacts.txt\", \"a\") as file:\n",
        "        file.write(contact)\n",
        "    print(\"Contact created and saved.\")\n",
        "\n",
        "# Function to view all contacts from the file\n",
        "def view_contacts():\n",
        "    try:\n",
        "        with open(\"contacts.txt\", \"r\") as file:\n",
        "            contacts = file.read()\n",
        "            print(\"Contacts:\")\n",
        "            print(contacts)\n",
        "    except FileNotFoundError:\n",
        "        print(\"No contacts found.\")\n",
        "\n",
        "# Function to search for a contact by name\n",
        "def search_contact(name):\n",
        "    try:\n",
        "        with open(\"contacts.txt\", \"r\") as file:\n",
        "            contacts = file.read()\n",
        "            if name in contacts:\n",
        "                print(f\"Contact found:\\n{contacts}\")\n",
        "            else:\n",
        "                print(\"Contact not found.\")\n",
        "    except FileNotFoundError:\n",
        "        print(\"No contacts found.\")\n",
        "\n",
        "# Function to update a contact's information\n",
        "def update_contact(name, new_email, new_phone):\n",
        "    try:\n",
        "        with open(\"contacts.txt\", \"r\") as file:\n",
        "            contacts = file.read()\n",
        "            if name in contacts:\n",
        "                updated_contact = contacts.replace(\n",
        "                    f\"Name: {name}\",\n",
        "                    f\"Name: {name}\\nEmail: {new_email}\\nPhone: {new_phone}\"\n",
        "                )\n",
        "                with open(\"contacts.txt\", \"w\") as file:\n",
        "                    file.write(updated_contact)\n",
        "                print(\"Contact updated.\")\n",
        "            else:\n",
        "                print(\"Contact not found.\")\n",
        "    except FileNotFoundError:\n",
        "        print(\"No contacts found.\")\n",
        "\n",
        "# Function to delete a contact\n",
        "def delete_contact(name):\n",
        "    try:\n",
        "        with open(\"contacts.txt\", \"r\") as file:\n",
        "            contacts = file.read()\n",
        "            if name in contacts:\n",
        "                updated_contact = contacts.replace(\n",
        "                    f\"Name: {name}\\nEmail:\",\n",
        "                    \"\"\n",
        "                )\n",
        "                with open(\"contacts.txt\", \"w\") as file:\n",
        "                    file.write(updated_contact)\n",
        "                print(\"Contact deleted.\")\n",
        "            else:\n",
        "                print(\"Contact not found.\")\n",
        "    except FileNotFoundError:\n",
        "        print(\"No contacts found.\")"
      ]
    },
    {
      "cell_type": "code",
      "source": [
        "# Main menu\n",
        "while True:\n",
        "    print(\"\\nContact Manager Menu:\")\n",
        "    print(\"1. Create Contact\")\n",
        "    print(\"2. View Contacts\")\n",
        "    print(\"3. Search Contact\")\n",
        "    print(\"4. Update Contact\")\n",
        "    print(\"5. Delete Contact\")\n",
        "    print(\"6. Quit\")\n",
        "\n",
        "    choice = input(\"Enter your choice: \")\n",
        "\n",
        "    if choice == \"1\":\n",
        "        name = input(\"Enter name: \")\n",
        "        email = input(\"Enter email: \")\n",
        "        phone = input(\"Enter phone: \")\n",
        "        create_contact(name, email, phone)\n",
        "    elif choice == \"2\":\n",
        "        view_contacts()\n",
        "    elif choice == \"3\":\n",
        "        name = input(\"Enter name to search: \")\n",
        "        search_contact(name)\n",
        "    elif choice == \"4\":\n",
        "        name = input(\"Enter name to update: \")\n",
        "        new_email = input(\"Enter new email: \")\n",
        "        new_phone = input(\"Enter new phone: \")\n",
        "        update_contact(name, new_email, new_phone)\n",
        "    elif choice == \"5\":\n",
        "        name = input(\"Enter name to delete: \")\n",
        "        delete_contact(name)\n",
        "    elif choice == \"6\":\n",
        "        print(\"Goodbye!\")\n",
        "        break\n",
        "    else:\n",
        "        print(\"Invalid choice. Please select a valid option.\")"
      ],
      "metadata": {
        "id": "64eFTZtT-U4u"
      },
      "execution_count": null,
      "outputs": []
    }
  ]
}