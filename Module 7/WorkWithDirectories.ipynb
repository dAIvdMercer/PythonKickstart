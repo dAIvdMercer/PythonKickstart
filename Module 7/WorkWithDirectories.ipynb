{
  "nbformat": 4,
  "nbformat_minor": 0,
  "metadata": {
    "colab": {
      "provenance": [],
      "authorship_tag": "ABX9TyO9RsuQVHMr/tMaM2CHsTI+",
      "include_colab_link": true
    },
    "kernelspec": {
      "name": "python3",
      "display_name": "Python 3"
    },
    "language_info": {
      "name": "python"
    }
  },
  "cells": [
    {
      "cell_type": "markdown",
      "metadata": {
        "id": "view-in-github",
        "colab_type": "text"
      },
      "source": [
        "<a href=\"https://colab.research.google.com/github/dAIvdMercer/PythonKickstart/blob/main/Session%207/WorkWithDirectories.ipynb\" target=\"_parent\"><img src=\"https://colab.research.google.com/assets/colab-badge.svg\" alt=\"Open In Colab\"/></a>"
      ]
    },
    {
      "cell_type": "code",
      "execution_count": null,
      "metadata": {
        "id": "WsqX6YkCM2dp"
      },
      "outputs": [],
      "source": [
        "import os\n",
        "import shutil\n",
        "\n",
        "# Step 1: Create a new directory\n",
        "new_directory = \"new_directory\"\n",
        "if not os.path.exists(new_directory):\n",
        "    os.makedirs(new_directory)\n",
        "    print(f\"Directory '{new_directory}' created.\")\n",
        "\n",
        "# Step 2: Add a file to the directory\n",
        "file_path = os.path.join(new_directory, \"example_file.txt\")\n",
        "with open(file_path, 'w') as file:\n",
        "    file.write(\"This is a test file.\")\n",
        "    print(f\"File '{file_path}' created in the directory.\")"
      ]
    },
    {
      "cell_type": "code",
      "source": [
        "# Step 3: Rename the directory\n",
        "renamed_directory = \"renamed_directory\"\n",
        "os.rename(new_directory, renamed_directory)\n",
        "print(f\"Directory renamed from '{new_directory}' to '{renamed_directory}'.\")"
      ],
      "metadata": {
        "id": "ETaDREXvN68b"
      },
      "execution_count": null,
      "outputs": []
    },
    {
      "cell_type": "code",
      "source": [
        "# Step 4: Delete the renamed directory and all its contents\n",
        "shutil.rmtree(renamed_directory)\n",
        "print(f\"Directory '{renamed_directory}' and all its contents have been deleted.\")"
      ],
      "metadata": {
        "id": "Q-X3bJ01N4iM"
      },
      "execution_count": null,
      "outputs": []
    }
  ]
}