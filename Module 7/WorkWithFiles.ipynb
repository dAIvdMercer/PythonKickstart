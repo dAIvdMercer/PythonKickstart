{
  "nbformat": 4,
  "nbformat_minor": 0,
  "metadata": {
    "colab": {
      "provenance": [],
      "include_colab_link": true
    },
    "kernelspec": {
      "name": "python3",
      "display_name": "Python 3"
    },
    "language_info": {
      "name": "python"
    }
  },
  "cells": [
    {
      "cell_type": "markdown",
      "metadata": {
        "id": "view-in-github",
        "colab_type": "text"
      },
      "source": [
        "<a href=\"https://colab.research.google.com/github/dAIvdMercer/PythonKickstart/blob/main/Module%207/WorkWithFiles.ipynb\" target=\"_parent\"><img src=\"https://colab.research.google.com/assets/colab-badge.svg\" alt=\"Open In Colab\"/></a>"
      ]
    },
    {
      "cell_type": "code",
      "execution_count": null,
      "metadata": {
        "id": "AhScS792FckJ"
      },
      "outputs": [],
      "source": [
        "import os\n",
        "import time\n",
        "\n",
        "# Create and write to the file\n",
        "file_name = \"example_file.txt\"\n",
        "with open(file_name, 'w') as file:\n",
        "    file.write(\"Hello, this is a test file.\\n\")\n",
        "    file.write(\"This file is used for demonstration purposes.\")\n",
        "\n",
        "# Display file stats\n",
        "file_stats = os.stat(file_name)\n",
        "print(f\"File Name: {file_name}\")\n",
        "print(f\"File Size: {file_stats.st_size} bytes\")\n",
        "print(f\"Last Modified: {time.ctime(file_stats.st_mtime)}\")\n",
        "print(f\"Last Accessed: {time.ctime(file_stats.st_atime)}\")\n",
        "\n",
        "# Rename the file\n",
        "new_file_name = \"renamed_file.txt\"\n",
        "os.rename(file_name, new_file_name)\n",
        "print(f\"File renamed to {new_file_name}\")\n",
        "\n",
        "# Read the contents of the renamed file\n",
        "with open(new_file_name, 'r') as file:\n",
        "    contents = file.read()\n",
        "    print(\"Contents of the renamed file:\")\n",
        "    print(contents)\n",
        "\n",
        "# Delete the file\n",
        "os.remove(new_file_name)\n",
        "print(f\"File {new_file_name} has been deleted.\")\n",
        "\n",
        "# Try delete the original file\n",
        "try:\n",
        "  os.remove(file_name)\n",
        "except FileNotFoundError:\n",
        "  print (f\"{file_name} doesn't exist\")"
      ]
    }
  ]
}