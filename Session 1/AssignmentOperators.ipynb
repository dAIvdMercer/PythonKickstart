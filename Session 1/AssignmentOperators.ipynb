{
  "nbformat": 4,
  "nbformat_minor": 0,
  "metadata": {
    "colab": {
      "provenance": [],
      "authorship_tag": "ABX9TyPlggdvQL0HwSeM1Ss9//PO",
      "include_colab_link": true
    },
    "kernelspec": {
      "name": "python3",
      "display_name": "Python 3"
    },
    "language_info": {
      "name": "python"
    }
  },
  "cells": [
    {
      "cell_type": "markdown",
      "metadata": {
        "id": "view-in-github",
        "colab_type": "text"
      },
      "source": [
        "<a href=\"https://colab.research.google.com/github/dAIvdMercer/PythonKickstart/blob/main/AssignmentOperators.ipynb\" target=\"_parent\"><img src=\"https://colab.research.google.com/assets/colab-badge.svg\" alt=\"Open In Colab\"/></a>"
      ]
    },
    {
      "cell_type": "code",
      "execution_count": null,
      "metadata": {
        "id": "mzldc8I4MKFn"
      },
      "outputs": [],
      "source": [
        "# Assignment Operators Examples\n",
        "\n",
        "# Simple Assignment (=)\n",
        "x = 10\n",
        "print(\"Simple Assignment: x =\", x)\n",
        "\n",
        "# Add AND (+=)\n",
        "x += 3  # Equivalent to x = x + 3\n",
        "print(\"Add AND: x =\", x)\n",
        "\n",
        "# Subtract AND (-=)\n",
        "x -= 2  # Equivalent to x = x - 2\n",
        "print(\"Subtract AND: x =\", x)\n",
        "\n",
        "# Multiply AND (*=)\n",
        "x *= 2  # Equivalent to x = x * 2\n",
        "print(\"Multiply AND: x =\", x)\n",
        "\n",
        "# Divide AND (/=)\n",
        "x /= 4  # Equivalent to x = x / 4\n",
        "print(\"Divide AND: x =\", x)\n",
        "\n",
        "# Modulus AND (%=)\n",
        "x %= 7  # Equivalent to x = x % 7\n",
        "print(\"Modulus AND: x =\", x)\n",
        "\n",
        "# Exponent AND (**=)\n",
        "x **= 2  # Equivalent to x = x ** 2\n",
        "print(\"Exponent AND: x =\", x)\n",
        "\n",
        "# Floor Division AND (//=)\n",
        "x //= 3  # Equivalent to x = x // 3\n",
        "print(\"Floor Division AND: x =\", x)"
      ]
    }
  ]
}
