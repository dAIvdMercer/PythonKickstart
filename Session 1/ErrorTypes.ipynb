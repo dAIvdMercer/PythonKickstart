{
  "nbformat": 4,
  "nbformat_minor": 0,
  "metadata": {
    "colab": {
      "provenance": [],
      "authorship_tag": "ABX9TyOk9h3KcODwfe3yUW8cOkqH",
      "include_colab_link": true
    },
    "kernelspec": {
      "name": "python3",
      "display_name": "Python 3"
    },
    "language_info": {
      "name": "python"
    }
  },
  "cells": [
    {
      "cell_type": "markdown",
      "metadata": {
        "id": "view-in-github",
        "colab_type": "text"
      },
      "source": [
        "<a href=\"https://colab.research.google.com/github/dAIvdMercer/PythonKickstart/blob/main/ErrorTypes.ipynb\" target=\"_parent\"><img src=\"https://colab.research.google.com/assets/colab-badge.svg\" alt=\"Open In Colab\"/></a>"
      ]
    },
    {
      "cell_type": "markdown",
      "source": [
        "# A Litany of Errors\n",
        "These errors are not handled, so the execution will stop when one is encountered. To see each one in action, uncomment the specific function call (delete #) and run the code. Then comment it out again (type #) and try another."
      ],
      "metadata": {
        "id": "NOF1e3rjLmG2"
      }
    },
    {
      "cell_type": "code",
      "execution_count": null,
      "metadata": {
        "id": "GkvXe5YZLhGn"
      },
      "outputs": [],
      "source": [
        "# Demonstrating various types of errors in Python\n",
        "\n",
        "# Syntax Error Example\n",
        "def syntax_error_example():\n",
        "    print(\"This is a syntax error example\"  # Missing closing parenthesis\n",
        "\n",
        "# Runtime Error Example\n",
        "def runtime_error_example():\n",
        "    return 10 / 0  # Division by zero\n",
        "\n",
        "# Logical Error Example\n",
        "def logical_error_example():\n",
        "    total = 0\n",
        "    for i in range(1, 11):\n",
        "        total += i  # Correct logic would be total = total + i\n",
        "    return total  # Incorrect total due to logic error\n",
        "\n",
        "# Semantic Error Example\n",
        "def semantic_error_example():\n",
        "    number = \"10\"\n",
        "    # Expected to add 10 + 10, but concatenates strings instead\n",
        "    return number + \"10\"\n",
        "\n",
        "# Type Error Example\n",
        "def type_error_example():\n",
        "    return \"100\" + 100  # Concatenating string and integer\n",
        "\n",
        "# Resource Error Example (Uncomment to test)\n",
        "# def resource_error_example():\n",
        "#     with open(\"non_existent_file.txt\", \"r\") as file:\n",
        "#         data = file.read()\n",
        "\n",
        "# Name Error Example\n",
        "def name_error_example():\n",
        "    return unknown_variable  # Variable is not defined\n",
        "\n",
        "# Index Error Example\n",
        "def index_error_example():\n",
        "    my_list = [1, 2, 3]\n",
        "    return my_list[3]  # Index out of range\n",
        "\n",
        "# Value Error Example\n",
        "def value_error_example():\n",
        "    return int(\"not a number\")  # Invalid string to integer conversion\n",
        "\n",
        "# Import Error Example\n",
        "def import_error_example():\n",
        "    import non_existent_module  # Module does not exist\n",
        "\n",
        "# Uncomment each function call to see the specific type of error\n",
        "# syntax_error_example()\n",
        "# runtime_error_example()\n",
        "# logical_error_example()\n",
        "# semantic_error_example()\n",
        "# type_error_example()\n",
        "# resource_error_example()\n",
        "# name_error_example()\n",
        "# index_error_example()\n",
        "# value_error_example()\n",
        "# import_error_example()\n"
      ]
    }
  ]
}
