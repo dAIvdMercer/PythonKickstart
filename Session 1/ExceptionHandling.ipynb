{
  "nbformat": 4,
  "nbformat_minor": 0,
  "metadata": {
    "colab": {
      "provenance": [],
      "authorship_tag": "ABX9TyO/Aj4aUvWnkz3G/qLHYPMK",
      "include_colab_link": true
    },
    "kernelspec": {
      "name": "python3",
      "display_name": "Python 3"
    },
    "language_info": {
      "name": "python"
    }
  },
  "cells": [
    {
      "cell_type": "markdown",
      "metadata": {
        "id": "view-in-github",
        "colab_type": "text"
      },
      "source": [
        "<a href=\"https://colab.research.google.com/github/dAIvdMercer/PythonKickstart/blob/main/ExceptionHandling.ipynb\" target=\"_parent\"><img src=\"https://colab.research.google.com/assets/colab-badge.svg\" alt=\"Open In Colab\"/></a>"
      ]
    },
    {
      "cell_type": "markdown",
      "source": [
        "With Exception Handling"
      ],
      "metadata": {
        "id": "xBwm0NYgU0dZ"
      }
    },
    {
      "cell_type": "code",
      "execution_count": null,
      "metadata": {
        "id": "HQnB17xgUBMI"
      },
      "outputs": [],
      "source": [
        "def divide(x, y):\n",
        "    try:\n",
        "        result = x / y\n",
        "    except ZeroDivisionError:\n",
        "        print(\"Error: Division by zero.\")\n",
        "        raise\n",
        "    else:\n",
        "        print(\"Result is\", result)\n",
        "    finally:\n",
        "        print(\"Executing finally clause.\")\n",
        "\n",
        "# Example usage\n",
        "try:\n",
        "    divide(2, 0)\n",
        "except ZeroDivisionError:\n",
        "    print(\"Caught division by zero error.\")\n"
      ]
    },
    {
      "cell_type": "markdown",
      "source": [
        "# Without Exception Handling\n",
        "Try running the same code without the benefit of error handling to see the difference."
      ],
      "metadata": {
        "id": "SStIvzH5Umvc"
      }
    },
    {
      "cell_type": "code",
      "source": [
        "def bad_divide(x, y):\n",
        "    result = x / y\n",
        "    print(\"Result is\", result)\n",
        "\n",
        "# Example usage\n",
        "bad_divide(2, 0)\n"
      ],
      "metadata": {
        "id": "KZhhKaSIUkH3"
      },
      "execution_count": null,
      "outputs": []
    }
  ]
}
