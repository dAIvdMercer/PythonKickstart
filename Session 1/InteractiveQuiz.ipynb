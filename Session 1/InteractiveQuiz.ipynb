{
  "nbformat": 4,
  "nbformat_minor": 0,
  "metadata": {
    "colab": {
      "provenance": [],
      "authorship_tag": "ABX9TyPjfqXKc1GoGZYUDOjE7lt5",
      "include_colab_link": true
    },
    "kernelspec": {
      "name": "python3",
      "display_name": "Python 3"
    },
    "language_info": {
      "name": "python"
    }
  },
  "cells": [
    {
      "cell_type": "markdown",
      "metadata": {
        "id": "view-in-github",
        "colab_type": "text"
      },
      "source": [
        "<a href=\"https://colab.research.google.com/github/dAIvdMercer/PythonKickstart/blob/main/InteractiveQuiz.ipynb\" target=\"_parent\"><img src=\"https://colab.research.google.com/assets/colab-badge.svg\" alt=\"Open In Colab\"/></a>"
      ]
    },
    {
      "cell_type": "markdown",
      "source": [
        "# Quiz Data\n",
        "Hardcode our quiz question data in a data structure that makes it easy to implement a simple quiz applications"
      ],
      "metadata": {
        "id": "zd2Z9EwZZnjC"
      }
    },
    {
      "cell_type": "code",
      "source": [
        "# Sample questions: (Question, [Options], Correct Answer)\n",
        "questions = [\n",
        "    (\"What is the capital of France?\", [\"London\", \"Paris\", \"Berlin\", \"Rome\"], \"Paris\"),\n",
        "    (\"Which planet is known as the Red Planet?\", [\"Earth\", \"Mars\", \"Jupiter\", \"Venus\"], \"Mars\"),\n",
        "    (\"What is the largest ocean on Earth?\", [\"Atlantic\", \"Pacific\", \"Indian\", \"Arctic\"], \"Pacific\"),\n",
        "    (\"Who wrote 'Hamlet'?\", [\"Charles Dickens\", \"William Shakespeare\", \"Leo Tolstoy\", \"Mark Twain\"], \"William Shakespeare\"),\n",
        "    (\"What is the square root of 64?\", [\"6\", \"8\", \"10\", \"12\"], \"8\")\n",
        "]"
      ],
      "metadata": {
        "id": "mRkKw4kUZfg_"
      },
      "execution_count": null,
      "outputs": []
    },
    {
      "cell_type": "markdown",
      "source": [
        "# Quiz Function\n",
        "The quiz function takes the question data structure as an input parameter (argument) and converts it into an interactive quiz, using a series of loops, an if-else control structure and a print statement."
      ],
      "metadata": {
        "id": "kBoSvX2UZ4a4"
      }
    },
    {
      "cell_type": "code",
      "execution_count": null,
      "metadata": {
        "id": "_nVnaKlsZWsp"
      },
      "outputs": [],
      "source": [
        "# Quiz Application in Python\n",
        "def run_quiz(questions):\n",
        "    score = 0\n",
        "    for question, options, correct_answer in questions:\n",
        "        print(question)\n",
        "        for i, option in enumerate(options, 1):\n",
        "            print(f\"{i}. {option}\")\n",
        "        answer = input(\"Enter the option number (e.g., 1): \")\n",
        "        if options[int(answer) - 1] == correct_answer:\n",
        "            score += 1\n",
        "            print(\"Correct!\\n\")\n",
        "        else:\n",
        "            print(\"Wrong answer.\\n\")\n",
        "    print(f\"Your final score is: {score}/{len(questions)}\")"
      ]
    },
    {
      "cell_type": "markdown",
      "source": [
        "# Run the Quiz\n",
        "With question data, and a quiz function, we are ready to execute the code and see the results."
      ],
      "metadata": {
        "id": "pM_aqYQsaSBh"
      }
    },
    {
      "cell_type": "code",
      "source": [
        "# Run the quiz\n",
        "run_quiz(questions)"
      ],
      "metadata": {
        "id": "_YP5tPOEZlRe"
      },
      "execution_count": null,
      "outputs": []
    }
  ]
}
