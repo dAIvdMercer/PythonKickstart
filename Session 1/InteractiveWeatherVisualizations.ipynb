{
  "nbformat": 4,
  "nbformat_minor": 0,
  "metadata": {
    "colab": {
      "provenance": [],
      "authorship_tag": "ABX9TyN1mDsTeYPNPOm5mi9gVZQn",
      "include_colab_link": true
    },
    "kernelspec": {
      "name": "python3",
      "display_name": "Python 3"
    },
    "language_info": {
      "name": "python"
    }
  },
  "cells": [
    {
      "cell_type": "markdown",
      "metadata": {
        "id": "view-in-github",
        "colab_type": "text"
      },
      "source": [
        "<a href=\"https://colab.research.google.com/github/dAIvdMercer/PythonKickstart/blob/main/InteractiveWeatherVisualizations.ipynb\" target=\"_parent\"><img src=\"https://colab.research.google.com/assets/colab-badge.svg\" alt=\"Open In Colab\"/></a>"
      ]
    },
    {
      "cell_type": "markdown",
      "source": [
        "# Install libraries"
      ],
      "metadata": {
        "id": "VYynzFGbCrBo"
      }
    },
    {
      "cell_type": "code",
      "source": [
        "!pip install pandas\n",
        "!pip install plotly"
      ],
      "metadata": {
        "id": "YfPtgXEY_Ga6"
      },
      "execution_count": null,
      "outputs": []
    },
    {
      "cell_type": "markdown",
      "source": [
        "# Plot charts\n",
        "We have some hardcoded weather data"
      ],
      "metadata": {
        "id": "lFppvEhIC9Oj"
      }
    },
    {
      "cell_type": "code",
      "execution_count": null,
      "metadata": {
        "id": "P1fQYaEWbe-s"
      },
      "outputs": [],
      "source": [
        "import pandas as pd\n",
        "import plotly.express as px\n",
        "\n",
        "pd.DataFrame\n",
        "\n",
        "# Sample weather data\n",
        "weather_data = {\n",
        "    \"Date\": [\"2023-12-01\", \"2023-12-02\", \"2023-12-03\", \"2023-12-04\"],\n",
        "    \"Temperature\": [22, 19, 21, 18],  # in Celsius\n",
        "    \"Humidity\": [80, 82, 78, 77],      # in percentage\n",
        "    \"Precipitation\": [10, 5, 0, 20]    # in mm\n",
        "}\n",
        "\n",
        "# Convert to DataFrame\n",
        "df = pd.DataFrame(weather_data)\n",
        "df['Date'] = pd.to_datetime(df['Date'])  # Convert the Date column to datetime\n",
        "\n",
        "# Function to visualize Temperature\n",
        "def plot_temperature(dataframe):\n",
        "    fig = px.line(dataframe, x='Date', y='Temperature', title='Daily Temperature')\n",
        "    fig.show()\n",
        "\n",
        "# Function to visualize Humidity\n",
        "def plot_humidity(dataframe):\n",
        "    fig = px.line(dataframe, x='Date', y='Humidity', title='Daily Humidity')\n",
        "    fig.show()\n",
        "\n",
        "# Function to visualize Precipitation\n",
        "def plot_precipitation(dataframe):\n",
        "    fig = px.line(dataframe, x='Date', y='Precipitation', title='Daily Precipitation')\n",
        "    fig.show()\n",
        "\n",
        "# Call the functions to visualize data\n",
        "plot_temperature(df)\n",
        "plot_humidity(df)\n",
        "plot_precipitation(df)\n"
      ]
    }
  ]
}
