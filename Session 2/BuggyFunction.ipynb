{
  "nbformat": 4,
  "nbformat_minor": 0,
  "metadata": {
    "colab": {
      "provenance": [],
      "authorship_tag": "ABX9TyOpunUZQT/aQHpMVCXUFfVJ",
      "include_colab_link": true
    },
    "kernelspec": {
      "name": "python3",
      "display_name": "Python 3"
    },
    "language_info": {
      "name": "python"
    }
  },
  "cells": [
    {
      "cell_type": "markdown",
      "metadata": {
        "id": "view-in-github",
        "colab_type": "text"
      },
      "source": [
        "<a href=\"https://colab.research.google.com/github/dAIvdMercer/PythonKickstart/blob/main/Session%202/BuggyFunction.ipynb\" target=\"_parent\"><img src=\"https://colab.research.google.com/assets/colab-badge.svg\" alt=\"Open In Colab\"/></a>"
      ]
    },
    {
      "cell_type": "markdown",
      "source": [
        "# Buggy Function\n",
        "This poor function has a bunch of different errors - each of a different type.\n",
        "\n",
        "Can you debug them all and save the function?\n",
        "\n",
        "Run the code to begin."
      ],
      "metadata": {
        "id": "Q1SXCWX2ZX1w"
      }
    },
    {
      "cell_type": "code",
      "execution_count": 39,
      "metadata": {
        "id": "hqAtoiytVd63",
        "colab": {
          "base_uri": "https://localhost:8080/",
          "height": 141
        },
        "outputId": "d0a4caf7-6a3c-4124-e5bd-840f6842af97"
      },
      "outputs": [
        {
          "output_type": "error",
          "ename": "SyntaxError",
          "evalue": "ignored",
          "traceback": [
            "\u001b[0;36m  File \u001b[0;32m\"<ipython-input-39-03288b9f38b4>\"\u001b[0;36m, line \u001b[0;32m4\u001b[0m\n\u001b[0;31m    for item in items\u001b[0m\n\u001b[0m                     ^\u001b[0m\n\u001b[0;31mSyntaxError\u001b[0m\u001b[0;31m:\u001b[0m expected ':'\n"
          ]
        }
      ],
      "source": [
        "def buggy_function(items, divisor):\n",
        "    total = 0\n",
        "\n",
        "    for item in items\n",
        "        total = total + \"1\"\n",
        "\n",
        "    average = total / len(divisor)\n",
        "\n",
        "    print(\"The result is:\", result)\n",
        "\n",
        "    division_result = 100 / divisor\n",
        "\n",
        "    first_item = items[10]\n",
        "\n",
        "    return \"The total is: \" + str(average)\n",
        "\n",
        "# Example usage\n",
        "error_prone_function([1, 2, 3], 0)\n"
      ]
    }
  ]
}