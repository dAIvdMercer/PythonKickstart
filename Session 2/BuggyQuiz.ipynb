{
  "nbformat": 4,
  "nbformat_minor": 0,
  "metadata": {
    "colab": {
      "provenance": [],
      "authorship_tag": "ABX9TyMdEa7WC1m0HSHnOT8NAqlJ",
      "include_colab_link": true
    },
    "kernelspec": {
      "name": "python3",
      "display_name": "Python 3"
    },
    "language_info": {
      "name": "python"
    }
  },
  "cells": [
    {
      "cell_type": "markdown",
      "metadata": {
        "id": "view-in-github",
        "colab_type": "text"
      },
      "source": [
        "<a href=\"https://colab.research.google.com/github/dAIvdMercer/PythonKickstart/blob/main/BuggyQuiz.ipynb\" target=\"_parent\"><img src=\"https://colab.research.google.com/assets/colab-badge.svg\" alt=\"Open In Colab\"/></a>"
      ]
    },
    {
      "cell_type": "code",
      "execution_count": null,
      "metadata": {
        "id": "hqAtoiytVd63"
      },
      "outputs": [],
      "source": [
        "def run_quiz(questions):\n",
        "    score = 0\n",
        "    for question, options, correct_answer in questions\n",
        "        print(quetion)\n",
        "        for i, option in enumerate(options, 1):\n",
        "            print(f\"{i}. {option}\")\n",
        "        answer = input(\"Enter the option number (e.g., 1): \")\n",
        "        if options[int(answer) - 1] == correct_answer:\n",
        "            score += 1\n",
        "            print(\"Correct!\\n\")\n",
        "        else:\n",
        "            score -= 1\n",
        "            print(\"Wrong answer.\\n\")\n",
        "    print(f\"Your final score is: {score}/{len(question)}\")\n",
        "    return score / len(questions)\n",
        "\n",
        "# Example usage\n",
        "score = run_quiz([])\n"
      ]
    }
  ]
}
