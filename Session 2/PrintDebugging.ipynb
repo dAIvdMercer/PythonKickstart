{
  "nbformat": 4,
  "nbformat_minor": 0,
  "metadata": {
    "colab": {
      "provenance": [],
      "authorship_tag": "ABX9TyMJAGVXvpO3i0Q43EsRquoK",
      "include_colab_link": true
    },
    "kernelspec": {
      "name": "python3",
      "display_name": "Python 3"
    },
    "language_info": {
      "name": "python"
    }
  },
  "cells": [
    {
      "cell_type": "markdown",
      "metadata": {
        "id": "view-in-github",
        "colab_type": "text"
      },
      "source": [
        "<a href=\"https://colab.research.google.com/github/dAIvdMercer/PythonKickstart/blob/main/Session%202/PrintDebugging.ipynb\" target=\"_parent\"><img src=\"https://colab.research.google.com/assets/colab-badge.svg\" alt=\"Open In Colab\"/></a>"
      ]
    },
    {
      "cell_type": "markdown",
      "source": [
        "# Debugging with print()\n",
        "\n",
        "This script contains two functions that calculate the final price of a product after a discount and tax have been added. The tax must be applied to the discounted price.\n",
        "\n",
        "It seems to return the wrong result based on the input data. Can you fix it?\n",
        "\n",
        "Tips for debugging with print():\n",
        "\n",
        "* **Be Specific with Your Output**: When printing values for debugging, clearly label them. For example, use print(\"Variable x:\", x) instead of just print(x). This makes it easier to know what each output represents, especially when you have multiple print statements.\n",
        "\n",
        "* **Print at Key Points**: Place print statements at critical points in your code, such as inside loops, conditionals, before and after function calls, and where variables are modified. This helps in tracking the flow of the program and the state of variables at these key locations.\n",
        "\n",
        "* **Print Variable Types**: Sometimes bugs are due to variables not being the type you expect. Printing the type of a variable (print(type(x))) can help identify these issues.\n",
        "\n",
        "* **Use Print to Show Program Flow**: Print statements can be used to show how the flow of control moves through your code. This can be particularly helpful in understanding complex loops and conditionals."
      ],
      "metadata": {
        "id": "0u2amn8PxiSF"
      }
    },
    {
      "cell_type": "code",
      "execution_count": null,
      "metadata": {
        "id": "xyd-EhTKte2r"
      },
      "outputs": [],
      "source": [
        "def calculate_discounted_price(original_price, discount_percentage):\n",
        "    # Calculate discount\n",
        "    discount = original_price * (discount_percentage / 100)\n",
        "    discounted_price = original_price - discount\n",
        "    return discounted_price\n",
        "\n",
        "def calculate_final_price(original_price, discounted_price, tax_rate):\n",
        "    # Apply tax to the original price instead of the discounted price (logical error)\n",
        "    tax = original_price * (tax_rate / 100)\n",
        "    final_price = discounted_price + tax\n",
        "    return final_price\n",
        "\n",
        "\n",
        "original_price = 100  # Price in dollars\n",
        "discount_percentage = 20  # 20% discount\n",
        "tax_rate = 10  # 10% tax rate\n",
        "\n",
        "# Calculate discounted price\n",
        "discounted_price = calculate_discounted_price(original_price, discount_percentage)\n",
        "\n",
        "# Calculate final price\n",
        "final_price = calculate_final_price(original_price, discounted_price, tax_rate)\n",
        "\n",
        "print(\"Original price:\", original_price)\n",
        "print(\"Discount percent:\", discount_percentage)\n",
        "print(\"Tax rate:\", tax_rate)\n",
        "print(\"Final price:\", final_price)"
      ]
    }
  ]
}