{
  "nbformat": 4,
  "nbformat_minor": 0,
  "metadata": {
    "colab": {
      "provenance": [],
      "authorship_tag": "ABX9TyMWgRozBSIAXwEysPIFaViw",
      "include_colab_link": true
    },
    "kernelspec": {
      "name": "python3",
      "display_name": "Python 3"
    },
    "language_info": {
      "name": "python"
    }
  },
  "cells": [
    {
      "cell_type": "markdown",
      "metadata": {
        "id": "view-in-github",
        "colab_type": "text"
      },
      "source": [
        "<a href=\"https://colab.research.google.com/github/dAIvdMercer/PythonKickstart/blob/main/Session%202/PrintDebugging.ipynb\" target=\"_parent\"><img src=\"https://colab.research.google.com/assets/colab-badge.svg\" alt=\"Open In Colab\"/></a>"
      ]
    },
    {
      "cell_type": "code",
      "execution_count": 14,
      "metadata": {
        "id": "xyd-EhTKte2r",
        "colab": {
          "base_uri": "https://localhost:8080/"
        },
        "outputId": "dcf98460-9918-413a-8556-3712ed2cfeed"
      },
      "outputs": [
        {
          "output_type": "stream",
          "name": "stdout",
          "text": [
            "Original price: 100\n",
            "Discount percent: 20\n",
            "Tax rate: 10\n",
            "Final price: 90.0\n"
          ]
        }
      ],
      "source": [
        "def calculate_discounted_price(original_price, discount_percentage):\n",
        "    # Calculate discount\n",
        "    discount = original_price * (discount_percentage / 100)\n",
        "    discounted_price = original_price - discount\n",
        "    return discounted_price\n",
        "\n",
        "def calculate_final_price(original_price, discounted_price, tax_rate):\n",
        "    # Apply tax to the original price instead of the discounted price (logical error)\n",
        "    tax = original_price * (tax_rate / 100)\n",
        "    final_price = discounted_price + tax\n",
        "    return final_price\n",
        "\n",
        "\n",
        "original_price = 100  # Price in dollars\n",
        "discount_percentage = 20  # 20% discount\n",
        "tax_rate = 10  # 10% tax rate\n",
        "\n",
        "# Calculate discounted price\n",
        "discounted_price = calculate_discounted_price(original_price, discount_percentage)\n",
        "\n",
        "# Calculate final price\n",
        "final_price = calculate_final_price(original_price, discounted_price, tax_rate)\n",
        "\n",
        "print(\"Original price:\", original_price)\n",
        "print(\"Discount percent:\", discount_percentage)\n",
        "print(\"Tax rate:\", tax_rate)\n",
        "print(\"Final price:\", final_price)\n"
      ]
    }
  ]
}