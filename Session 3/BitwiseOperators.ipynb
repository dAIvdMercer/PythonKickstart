{
  "nbformat": 4,
  "nbformat_minor": 0,
  "metadata": {
    "colab": {
      "provenance": [],
      "authorship_tag": "ABX9TyP5SZaaHDmDn4+WvEzVVqGW",
      "include_colab_link": true
    },
    "kernelspec": {
      "name": "python3",
      "display_name": "Python 3"
    },
    "language_info": {
      "name": "python"
    }
  },
  "cells": [
    {
      "cell_type": "markdown",
      "metadata": {
        "id": "view-in-github",
        "colab_type": "text"
      },
      "source": [
        "<a href=\"https://colab.research.google.com/github/dAIvdMercer/PythonKickstart/blob/main/Session%203/BitwiseOperators.ipynb\" target=\"_parent\"><img src=\"https://colab.research.google.com/assets/colab-badge.svg\" alt=\"Open In Colab\"/></a>"
      ]
    },
    {
      "cell_type": "code",
      "execution_count": 1,
      "metadata": {
        "colab": {
          "base_uri": "https://localhost:8080/"
        },
        "id": "GHAR89IHdTco",
        "outputId": "911ba69a-bfa9-4fd6-8f2e-bc107177ce9c"
      },
      "outputs": [
        {
          "output_type": "stream",
          "name": "stdout",
          "text": [
            "Bitwise AND of 12 and 5 is 4\n",
            "Bitwise OR of 12 and 5 is 13\n",
            "Bitwise XOR of 12 and 5 is 9\n",
            "Bitwise NOT of 12 is -13\n",
            "Bitwise NOT of 5 is -6\n",
            "Left shifting 12 by 2 gives 48\n",
            "Right shifting 12 by 2 gives 3\n"
          ]
        }
      ],
      "source": [
        "# Sample integers\n",
        "a = 12  # In binary: 1100\n",
        "b = 5   # In binary: 0101\n",
        "\n",
        "# Bitwise AND (&)\n",
        "and_result = a & b  # Binary: 1100 & 0101 = 0100 (4 in decimal)\n",
        "print(f\"Bitwise AND of {a} and {b} is {and_result}\")\n",
        "\n",
        "# Bitwise OR (|)\n",
        "or_result = a | b  # Binary: 1100 | 0101 = 1101 (13 in decimal)\n",
        "print(f\"Bitwise OR of {a} and {b} is {or_result}\")\n",
        "\n",
        "# Bitwise XOR (^)\n",
        "xor_result = a ^ b  # Binary: 1100 ^ 0101 = 1001 (9 in decimal)\n",
        "print(f\"Bitwise XOR of {a} and {b} is {xor_result}\")\n",
        "\n",
        "# Bitwise NOT (~)\n",
        "not_result_a = ~a  # Binary: ~1100 = ...11110011 (2's complement, -13 in decimal)\n",
        "not_result_b = ~b  # Binary: ~0101 = ...11111010 (2's complement, -6 in decimal)\n",
        "print(f\"Bitwise NOT of {a} is {not_result_a}\")\n",
        "print(f\"Bitwise NOT of {b} is {not_result_b}\")\n",
        "\n",
        "# Left Shift (<<)\n",
        "left_shift = a << 2  # Binary: 1100 << 2 = 110000 (48 in decimal)\n",
        "print(f\"Left shifting {a} by 2 gives {left_shift}\")\n",
        "\n",
        "# Right Shift (>>)\n",
        "right_shift = a >> 2  # Binary: 1100 >> 2 = 0011 (3 in decimal)\n",
        "print(f\"Right shifting {a} by 2 gives {right_shift}\")"
      ]
    }
  ]
}