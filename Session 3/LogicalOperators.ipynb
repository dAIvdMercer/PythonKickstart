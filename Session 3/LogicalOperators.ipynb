{
  "nbformat": 4,
  "nbformat_minor": 0,
  "metadata": {
    "colab": {
      "provenance": [],
      "authorship_tag": "ABX9TyMgpnNfcBFUmNnqo7BYgra6",
      "include_colab_link": true
    },
    "kernelspec": {
      "name": "python3",
      "display_name": "Python 3"
    },
    "language_info": {
      "name": "python"
    }
  },
  "cells": [
    {
      "cell_type": "markdown",
      "metadata": {
        "id": "view-in-github",
        "colab_type": "text"
      },
      "source": [
        "<a href=\"https://colab.research.google.com/github/dAIvdMercer/PythonKickstart/blob/main/Session%202/LogicalOperators.ipynb\" target=\"_parent\"><img src=\"https://colab.research.google.com/assets/colab-badge.svg\" alt=\"Open In Colab\"/></a>"
      ]
    },
    {
      "cell_type": "code",
      "execution_count": null,
      "metadata": {
        "id": "9wQ07u6yYT7f"
      },
      "outputs": [],
      "source": [
        "# Sample values\n",
        "age = 25\n",
        "is_student = True\n",
        "income = 30000\n",
        "\n",
        "# Using boolean expressions for assignment\n",
        "eligible_for_student_discount = age > 18 and is_student\n",
        "eligible_for_membership = age > 18 or income < 50000\n",
        "not_a_student = not is_student\n",
        "\n",
        "# Printing the results\n",
        "print(\"Eligible for student discount:\", eligible_for_student_discount)\n",
        "print(\"Eligible for membership:\", eligible_for_membership)\n",
        "print(\"Not a student:\", not_a_student)"
      ]
    }
  ]
}
