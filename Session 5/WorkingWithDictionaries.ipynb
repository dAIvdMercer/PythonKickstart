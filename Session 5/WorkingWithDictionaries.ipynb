{
  "nbformat": 4,
  "nbformat_minor": 0,
  "metadata": {
    "colab": {
      "provenance": [],
      "authorship_tag": "ABX9TyOhHr+2t29nNHvMZxI/cOdw",
      "include_colab_link": true
    },
    "kernelspec": {
      "name": "python3",
      "display_name": "Python 3"
    },
    "language_info": {
      "name": "python"
    }
  },
  "cells": [
    {
      "cell_type": "markdown",
      "metadata": {
        "id": "view-in-github",
        "colab_type": "text"
      },
      "source": [
        "<a href=\"https://colab.research.google.com/github/dAIvdMercer/PythonKickstart/blob/main/Session%205/WorkingWithDictionaries.ipynb\" target=\"_parent\"><img src=\"https://colab.research.google.com/assets/colab-badge.svg\" alt=\"Open In Colab\"/></a>"
      ]
    },
    {
      "cell_type": "code",
      "execution_count": null,
      "metadata": {
        "id": "ItQhwJSPv6Nl"
      },
      "outputs": [],
      "source": [
        "# Creating a dictionary\n",
        "student = {\n",
        "    \"name\": \"Alice\",\n",
        "    \"age\": 20,\n",
        "    \"major\": \"Computer Science\"\n",
        "}\n",
        "\n",
        "# Accessing dictionary values by key\n",
        "print(\"Name:\", student[\"name\"])  # Output: Alice\n",
        "\n",
        "# Modifying dictionary values\n",
        "student[\"age\"] = 21\n",
        "\n",
        "# Adding a new key-value pair\n",
        "student[\"university\"] = \"MIT\"\n",
        "\n",
        "# Iterating through dictionary keys and values\n",
        "for key, value in student.items():\n",
        "    print(key, \":\", value)\n",
        "\n",
        "# Checking if a key exists in the dictionary\n",
        "if \"major\" in student:\n",
        "    print(\"Major:\", student[\"major\"])"
      ]
    }
  ]
}