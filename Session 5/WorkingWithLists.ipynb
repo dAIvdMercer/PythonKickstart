{
  "nbformat": 4,
  "nbformat_minor": 0,
  "metadata": {
    "colab": {
      "provenance": [],
      "authorship_tag": "ABX9TyMXg5pNCp8Fs/wFm+3PTPwB",
      "include_colab_link": true
    },
    "kernelspec": {
      "name": "python3",
      "display_name": "Python 3"
    },
    "language_info": {
      "name": "python"
    }
  },
  "cells": [
    {
      "cell_type": "markdown",
      "metadata": {
        "id": "view-in-github",
        "colab_type": "text"
      },
      "source": [
        "<a href=\"https://colab.research.google.com/github/dAIvdMercer/PythonKickstart/blob/main/Session%205/WorkingWithLists.ipynb\" target=\"_parent\"><img src=\"https://colab.research.google.com/assets/colab-badge.svg\" alt=\"Open In Colab\"/></a>"
      ]
    },
    {
      "cell_type": "code",
      "execution_count": null,
      "metadata": {
        "id": "_UuT8UP6uNDA"
      },
      "outputs": [],
      "source": [
        "# Creating a list\n",
        "fruits = [\"apple\", \"banana\", \"cherry\"]\n",
        "\n",
        "# Accessing list elements\n",
        "print(\"First fruit:\", fruits[0])  # Output: apple\n",
        "\n",
        "# Adding an element to the end of the list\n",
        "fruits.append(\"orange\")\n",
        "\n",
        "# Inserting an element at a specific position\n",
        "fruits.insert(1, \"blueberry\")\n",
        "\n",
        "# Removing an element\n",
        "fruits.remove(\"banana\")\n",
        "\n",
        "# Iterating over the list\n",
        "for fruit in fruits:\n",
        "    print(fruit)\n",
        "\n",
        "# List comprehension for transforming elements\n",
        "lengths = [len(fruit) for fruit in fruits]\n",
        "print(\"Lengths of fruit names:\", lengths)\n"
      ]
    }
  ]
}