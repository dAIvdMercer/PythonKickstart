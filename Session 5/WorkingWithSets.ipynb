{
  "nbformat": 4,
  "nbformat_minor": 0,
  "metadata": {
    "colab": {
      "provenance": [],
      "authorship_tag": "ABX9TyNna5mTTFmbGTfFXYttnd7M",
      "include_colab_link": true
    },
    "kernelspec": {
      "name": "python3",
      "display_name": "Python 3"
    },
    "language_info": {
      "name": "python"
    }
  },
  "cells": [
    {
      "cell_type": "markdown",
      "metadata": {
        "id": "view-in-github",
        "colab_type": "text"
      },
      "source": [
        "<a href=\"https://colab.research.google.com/github/dAIvdMercer/PythonKickstart/blob/main/Session%205/WorkingWithSets.ipynb\" target=\"_parent\"><img src=\"https://colab.research.google.com/assets/colab-badge.svg\" alt=\"Open In Colab\"/></a>"
      ]
    },
    {
      "cell_type": "code",
      "execution_count": null,
      "metadata": {
        "id": "-TkcqEDWwOqr"
      },
      "outputs": [],
      "source": [
        "# Creating a set\n",
        "fruits = {\"apple\", \"banana\", \"cherry\"}\n",
        "\n",
        "# Adding an element to the set\n",
        "fruits.add(\"orange\")\n",
        "\n",
        "# Removing an element from the set\n",
        "fruits.remove(\"banana\")\n",
        "\n",
        "# Checking if an element is in the set\n",
        "if \"apple\" in fruits:\n",
        "    print(\"Apple is in the set\")\n",
        "\n",
        "# Set operations\n",
        "colors = {\"red\", \"green\", \"blue\"}\n",
        "primary_colors = {\"red\", \"blue\"}\n",
        "\n",
        "# Union of two sets\n",
        "all_colors = colors.union(primary_colors)\n",
        "\n",
        "# Intersection of two sets\n",
        "common_colors = colors.intersection(primary_colors)\n",
        "\n",
        "# Difference between two sets\n",
        "non_primary_colors = colors.difference(primary_colors)\n",
        "\n",
        "print(\"All colors:\", all_colors)\n",
        "print(\"Common colors:\", common_colors)\n",
        "print(\"Non-primary colors:\", non_primary_colors)"
      ]
    }
  ]
}