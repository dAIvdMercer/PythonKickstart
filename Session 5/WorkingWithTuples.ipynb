{
  "nbformat": 4,
  "nbformat_minor": 0,
  "metadata": {
    "colab": {
      "provenance": [],
      "authorship_tag": "ABX9TyNc7PExgGmnMLx42WZM0dhw",
      "include_colab_link": true
    },
    "kernelspec": {
      "name": "python3",
      "display_name": "Python 3"
    },
    "language_info": {
      "name": "python"
    }
  },
  "cells": [
    {
      "cell_type": "markdown",
      "metadata": {
        "id": "view-in-github",
        "colab_type": "text"
      },
      "source": [
        "<a href=\"https://colab.research.google.com/github/dAIvdMercer/PythonKickstart/blob/main/Session%205/WorkingWithTuples.ipynb\" target=\"_parent\"><img src=\"https://colab.research.google.com/assets/colab-badge.svg\" alt=\"Open In Colab\"/></a>"
      ]
    },
    {
      "cell_type": "code",
      "execution_count": null,
      "metadata": {
        "id": "KYkwk5xwvnHe"
      },
      "outputs": [],
      "source": [
        "# Creating a tuple\n",
        "fruits = (\"apple\", \"banana\", \"cherry\")\n",
        "\n",
        "# Accessing tuple elements\n",
        "print(\"First fruit:\", fruits[0])  # Output: apple\n",
        "\n",
        "# Iterating over the tuple\n",
        "for fruit in fruits:\n",
        "    print(fruit)\n",
        "\n",
        "# Tuple packing and unpacking\n",
        "coordinates = (3, 4)\n",
        "x, y = coordinates\n",
        "print(\"x:\", x, \"y:\", y)"
      ]
    }
  ]
}