{
  "nbformat": 4,
  "nbformat_minor": 0,
  "metadata": {
    "colab": {
      "provenance": [],
      "authorship_tag": "ABX9TyM9DP8r2OZ2Hb2btyAkS/aE",
      "include_colab_link": true
    },
    "kernelspec": {
      "name": "python3",
      "display_name": "Python 3"
    },
    "language_info": {
      "name": "python"
    }
  },
  "cells": [
    {
      "cell_type": "markdown",
      "metadata": {
        "id": "view-in-github",
        "colab_type": "text"
      },
      "source": [
        "<a href=\"https://colab.research.google.com/github/dAIvdMercer/PythonKickstart/blob/main/Session%207/WorkWithDirectories.ipynb\" target=\"_parent\"><img src=\"https://colab.research.google.com/assets/colab-badge.svg\" alt=\"Open In Colab\"/></a>"
      ]
    },
    {
      "cell_type": "code",
      "execution_count": null,
      "metadata": {
        "id": "WsqX6YkCM2dp"
      },
      "outputs": [],
      "source": [
        "import os\n",
        "\n",
        "# Folder (directory) path\n",
        "folder_path = 'example_folder'\n",
        "\n",
        "# Create the folder if it doesn't exist\n",
        "if not os.path.exists(folder_path):\n",
        "    os.makedirs(folder_path)\n",
        "\n",
        "# File path in the new folder\n",
        "file_path = os.path.join(folder_path, 'example_file.txt')\n",
        "\n",
        "# Write a file in the newly created folder\n",
        "with open(file_path, 'w') as file:\n",
        "    file.write(\"This is a test file in the new folder.\")\n",
        "\n",
        "print(f\"File '{file_path}' has been created.\")"
      ]
    }
  ]
}