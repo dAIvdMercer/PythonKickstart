{
  "nbformat": 4,
  "nbformat_minor": 0,
  "metadata": {
    "colab": {
      "provenance": [],
      "authorship_tag": "ABX9TyMiiqiCpOLhUXg/i76TFzd5",
      "include_colab_link": true
    },
    "kernelspec": {
      "name": "python3",
      "display_name": "Python 3"
    },
    "language_info": {
      "name": "python"
    }
  },
  "cells": [
    {
      "cell_type": "markdown",
      "metadata": {
        "id": "view-in-github",
        "colab_type": "text"
      },
      "source": [
        "<a href=\"https://colab.research.google.com/github/dAIvdMercer/PythonKickstart/blob/main/Session%209/OpenAIAPI.ipynb\" target=\"_parent\"><img src=\"https://colab.research.google.com/assets/colab-badge.svg\" alt=\"Open In Colab\"/></a>"
      ]
    },
    {
      "cell_type": "code",
      "source": [
        "import openai\n",
        "from google.colab import userdata\n",
        "\n",
        "\n",
        "# Grab the API key from Google's user data secrets\n",
        "api_key = userdata.get('OpenAIAPIKey')\n",
        "\n",
        "# Initialize the OpenAI API client\n",
        "openai.api_key = api_key\n",
        "\n",
        "# Define the prompt or question\n",
        "prompt = \"What is the capital of France?\"\n",
        "\n",
        "# Add the prompt to the messages expected by the API\n",
        "messages = [\n",
        "        {\n",
        "            \"role\": \"user\",\n",
        "            \"content\": prompt\n",
        "        }\n",
        "    ]\n",
        "\n",
        "# Call the OpenAI API to get a response\n",
        "response = openai.chat.completions.create(\n",
        "    model=\"gpt-3.5-turbo\",\n",
        "    messages=messages,\n",
        "    max_tokens=50,  # Adjust max_tokens for desired response length\n",
        "    temperature=0\n",
        ")\n",
        "\n",
        "# Extract the response\n",
        "result = response.choices[0].message.content\n",
        "\n",
        "print(result)"
      ],
      "metadata": {
        "id": "6IqRr-f7KOlm"
      },
      "execution_count": null,
      "outputs": []
    }
  ]
}